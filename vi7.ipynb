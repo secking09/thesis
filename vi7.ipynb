{
 "cells": [
  {
   "cell_type": "code",
   "execution_count": 63,
   "metadata": {},
   "outputs": [],
   "source": [
    "import numpy as np  \n",
    "import os \n",
    "import cv2 \n",
    "from scipy.ndimage import convolve\n",
    "from skimage.exposure import match_histograms \n",
    "from skimage.morphology import remove_small_objects, binary_opening"
   ]
  },
  {
   "cell_type": "markdown",
   "metadata": {},
   "source": [
    "Section below for uploading the images on the system. "
   ]
  },
  {
   "cell_type": "code",
   "execution_count": 64,
   "metadata": {},
   "outputs": [
    {
     "name": "stdout",
     "output_type": "stream",
     "text": [
      "(384, 512, 3, 30)\n"
     ]
    }
   ],
   "source": [
    "dataset_path = '/home/sg24duk/Desktop/datapython/'\n",
    "\n",
    "images = []\n",
    "labels = []\n",
    "\n",
    "\n",
    "finallypath = sorted((os.listdir(dataset_path)))\n",
    "i = 0\n",
    "for filename in finallypath:\n",
    "    \n",
    "    if filename.endswith(('.png', '.jpg', '.jpeg', '.gif', '.bmp')): \n",
    "        \n",
    "        img_path = os.path.join(dataset_path,filename)\n",
    "        img = cv2.imread(img_path)\n",
    "        images.append(img)\n",
    "    \n",
    "\n",
    "# Convert to numpy arrays\n",
    "images = np.array(images)\n",
    "images_algo = np.transpose(images, (1,2,3,0))\n",
    "\n",
    "print(images_algo.shape)"
   ]
  },
  {
   "cell_type": "markdown",
   "metadata": {},
   "source": [
    "Parameters Area "
   ]
  },
  {
   "cell_type": "code",
   "execution_count": 145,
   "metadata": {},
   "outputs": [],
   "source": [
    "[s1,s2,s3,s4] = (images_algo.shape) # size of the images\n",
    "\n",
    "refIdx = 14 ### State the REF pic\n",
    "\n",
    "r  = 12;                    # slide size of the guided filter\n",
    "alpha = 1.1;                # the parameters for the last fusion\n",
    "SigD = 0.12                 # the Gauss parameters in the weigh map of the detail layer fusion\n",
    "p = 4                       # ?\n",
    "gSig = 0.2                  # \n",
    "lSig = 0.5                  # \n",
    "wSize = 21                  # Square Kernel length\n",
    "stepSize = 2                \n",
    "exposureThres = 0.01        ##\n",
    "consistencyThres = 0.15\n",
    "structureThres = 0.80\n",
    "overexposure_pa = 0.5\n",
    "C = 0.03 ** 2 / 2          # inherited from SSIM\n",
    "epsil = 0.25               # (0.5*1)^2;\n",
    "np_i = s1*s2            \n",
    "H = np.ones((7,7))            # small average filter is enough\n",
    "H = H / H.sum()               # Normalized it. \n",
    "Fake_Ref = np.zeros((s1, s2, s3))\n",
    "L = np.zeros((s1, s2, s4))\n",
    "gMu = np.zeros((s1, s2, s4))      # global mean intensity\n",
    "BaseMu = np.zeros((s1, s2, s4))   # local mean intensity\n",
    "\n",
    "numExd = 2*s4 - 1\n",
    "\n",
    "xIdxMax = s1 - wSize + 1\n",
    "yIdxMax = s2 - wSize + 1\n",
    "\n",
    "window = np.ones((wSize, wSize))\n",
    "window3D = np.repeat(window[:, :, np.newaxis], 3, axis=2)\n",
    "\n",
    "\n",
    "lMu_c = np.zeros((xIdxMax, yIdxMax, numExd))  # Local mean intensity\n",
    "lMuSq_c = np.zeros((xIdxMax, yIdxMax, numExd))  # Local mean intensity squared\n",
    "sigmaSq = np.zeros((xIdxMax, yIdxMax, numExd))  # Signal strength from variance\n"
   ]
  },
  {
   "cell_type": "markdown",
   "metadata": {},
   "source": [
    "Function Define Area "
   ]
  },
  {
   "cell_type": "code",
   "execution_count": 173,
   "metadata": {},
   "outputs": [],
   "source": [
    "def im2double(image):\n",
    "    return image.astype(np.float32) / 255.0   ## Images are converted to double!\n",
    "\n",
    "def convolve2D(image, kernel, padding=0, strides=1): ## To implement 2-D Convolution operation. \n",
    "\n",
    "    # Cross Correlation\n",
    "    kernel = np.flipud(np.fliplr(kernel))\n",
    "\n",
    "    # Gather Shapes of Kernel + Image + Padding\n",
    "    xKernShape = kernel.shape[0]\n",
    "    yKernShape = kernel.shape[1]\n",
    "    xImgShape = image.shape[0]\n",
    "    yImgShape = image.shape[1]\n",
    "\n",
    "    # Shape of Output Convolution\n",
    "    xOutput = int(((xImgShape - xKernShape + 2 * padding) / strides) + 1)\n",
    "    yOutput = int(((yImgShape - yKernShape + 2 * padding) / strides) + 1)\n",
    "    output = np.zeros((xOutput, yOutput))\n",
    "\n",
    "    # Apply Equal Padding to All Sides\n",
    "    if padding != 0:\n",
    "        imagePadded = np.zeros((image.shape[0] + padding*2, image.shape[1] + padding*2))\n",
    "        imagePadded[int(padding):int(-1 * padding), int(padding):int(-1 * padding)] = image\n",
    "        print(imagePadded)\n",
    "    else:\n",
    "        imagePadded = image\n",
    "\n",
    "    # Iterate through image\n",
    "    for y in range(image.shape[1]):\n",
    "        # Exit Convolution\n",
    "        if y > image.shape[1] - yKernShape:\n",
    "            break\n",
    "        # Only Convolve if y has gone down by the specified Strides\n",
    "        if y % strides == 0:\n",
    "            for x in range(image.shape[0]):\n",
    "                # Go to next row once kernel is out of bounds\n",
    "                if x > image.shape[0] - xKernShape:\n",
    "                    break\n",
    "                try:\n",
    "                    # Only Convolve if x has moved by the specified Strides\n",
    "                    if x % strides == 0:\n",
    "                        output[x, y] = (kernel * imagePadded[x: x + xKernShape, y: y + yKernShape]).sum()\n",
    "                except:\n",
    "                    break\n",
    "\n",
    "    return output\n",
    "\n",
    "def imfConsistency(mu, refIdx, consistencyThres): ## Imitation of imfConsistency.m \n",
    "    # Get the dimensions of the input 3D array `mu`\n",
    "    s1, s2, s3 = mu.shape\n",
    "    \n",
    "    # Initialize cMap with zeros and set the reference slice to ones\n",
    "    cMap = np.zeros((s1, s2, s3))\n",
    "    cMap[:, :, refIdx] = np.ones((s1, s2))\n",
    "    \n",
    "    # Reference slice of `mu`\n",
    "    refMu = mu[:, :, refIdx]\n",
    "    \n",
    "    # Histogram matching and comparison for each slice except the reference\n",
    "    for i in range(s3):\n",
    "        if i != refIdx:\n",
    "            # Histogram matching\n",
    "            cMu = match_histograms(mu[:, :, i], refMu, channel_axis=None)\n",
    "            \n",
    "            # Calculate absolute difference and update cMap based on threshold\n",
    "            diff = np.abs(cMu - refMu)\n",
    "            cMap[:, :, i] = diff <= consistencyThres  # Binary map based on consistency threshold\n",
    "    \n",
    "    return cMap\n",
    "\n",
    "def rgb2grey(X): ## This is the custom one. \n",
    "    orig_shape = X.shape\n",
    "    threeD = (X.ndim == 3)\n",
    "\n",
    "    # Define the transformation coefficients (for red, green, blue channels respectively)\n",
    "    coef = np.array([0.2, 0.6, 0.2])\n",
    "\n",
    "    if threeD:\n",
    "        # RGB case\n",
    "        if X.dtype in [np.float32, np.float64]:\n",
    "            # Reshape to a 2D array where each row is a pixel, with 3 columns (R, G, B)\n",
    "            X_reshaped = X.reshape(-1, 3)\n",
    "            # Apply grayscale transformation\n",
    "            I = np.dot(X_reshaped, coef)\n",
    "            # Clip to ensure values are within [0, 1] range for float types\n",
    "            I = np.clip(I, 0, 1)\n",
    "            # Reshape back to the original 2D dimensions\n",
    "            I = I.reshape(orig_shape[0], orig_shape[1])\n",
    "        \n",
    "        else:\n",
    "            # For uint8 or uint16 types, convert by scaling appropriately\n",
    "            I = np.dot(X, coef).astype(X.dtype)\n",
    "    else:\n",
    "        # For 2D input (already grayscale), repeat channels for RGB equivalent output\n",
    "        I = np.dot(X, coef)\n",
    "        I = np.clip(I, 0, 1)\n",
    "        I = np.stack([I, I, I], axis=-1)\n",
    "    \n",
    "    return I\n",
    "\n",
    "def rgb2gray(image): ## that's from MATLAB\n",
    "    \"\"\"\n",
    "    Convert an RGB image to grayscale.\n",
    "    \n",
    "    Parameters:\n",
    "    - image: A 3D NumPy array (H, W, 3) representing an RGB image.\n",
    "\n",
    "    Returns:\n",
    "    - A 2D NumPy array (H, W) representing the grayscale image.\n",
    "    \"\"\"\n",
    "    # Ensure the input image is a 3D array\n",
    "    if image.ndim != 3 or image.shape[2] != 3:\n",
    "        raise ValueError(\"Input image must be a 3D array with 3 channels (RGB).\")\n",
    "    \n",
    "    # Define the coefficients for RGB to grayscale conversion\n",
    "    coef = np.array([0.2989, 0.5870, 0.1140])\n",
    "    \n",
    "    # Convert to grayscale using dot product\n",
    "    gray_image = np.dot(image[..., :3], coef)\n",
    "    \n",
    "    # Clip values to [0, 1] if image is normalized, or [0, 255] if uint8\n",
    "    if gray_image.max() > 1:\n",
    "        gray_image = (np.clip(gray_image, 0, 255).astype(np.uint8)) / 255\n",
    "    else:\n",
    "        gray_image = np.clip(gray_image, 0, 1)\n",
    "    \n",
    "    return gray_image\n",
    "\n",
    "def imfConsistency(mu, refIdx, consistencyThres):\n",
    "    # Get the dimensions of the input 3D array `mu`\n",
    "    s1, s2, s3 = mu.shape\n",
    "    \n",
    "    # Initialize cMap with zeros and set the reference slice to ones\n",
    "    cMap = np.zeros((s1, s2, s3))\n",
    "    cMap[:, :, refIdx] = np.ones((s1, s2))\n",
    "    \n",
    "    # Reference slice of `mu`\n",
    "    refMu = mu[:, :, refIdx]\n",
    "    \n",
    "    # Histogram matching and comparison for each slice except the reference\n",
    "    for i in range(s3):\n",
    "        if i != refIdx:\n",
    "            # Histogram matching\n",
    "            cMu = match_histograms(mu[:, :, i], refMu, channel_axis=None)\n",
    "            \n",
    "            # Calculate absolute difference and update cMap based on threshold\n",
    "            diff = np.abs(cMu - refMu)\n",
    "            cMap[:, :, i] = diff <= consistencyThres  # Binary map based on consistency threshold\n",
    "    \n",
    "    return cMap\n",
    "\n",
    "\n",
    "\n",
    "\n"
   ]
  },
  {
   "cell_type": "markdown",
   "metadata": {},
   "source": []
  },
  {
   "cell_type": "code",
   "execution_count": 181,
   "metadata": {},
   "outputs": [],
   "source": [
    "### Convert Every image to double \n",
    "\n",
    "imgSeqExtended = np.zeros((s1,s2,s3,numExd))\n",
    "imgSeq = np.zeros((s1,s2,s3,s4))\n",
    "imgSeqExtended[:,:,:,:s4] = im2double(images_algo)\n",
    "imgSeq = im2double(images_algo)\n",
    "\n",
    "### Initialize temporary values. \n",
    "temp = np.zeros((s1,s2,s3))\n",
    "sq_temp = np.zeros((s1,s2,s3))\n",
    "## calculate local mean intensity (also might be called luminance) and Squared value of it to calculate sigma squared eventually. \n",
    "for i in range(numExd):\n",
    "    temp = imgSeqExtended[:,:,:,i]\n",
    "    sq_temp = temp*temp\n",
    "    temp_avg    = np.mean(temp,axis=2)\n",
    "    sq_temp_avg = np.mean(sq_temp,axis=2)\n",
    "    lMu_c[:,:,i] = convolve2D(temp_avg,window,0,1)      ##Convolution with averaging kernel \n",
    "    lMuSq_c[:,:,i]= lMu_c[:,:,i] * lMu_c[:,:,i]\n",
    "    sigmaSq[:,:,i] = convolve2D(sq_temp_avg,window,0,1) - lMuSq_c[:,:,i] ## Calculate the variance \n",
    "\n",
    "\n",
    " "
   ]
  },
  {
   "cell_type": "code",
   "execution_count": 182,
   "metadata": {},
   "outputs": [
    {
     "name": "stdout",
     "output_type": "stream",
     "text": [
      "[[0.01176471 0.01191588 0.01208483 0.01228047 0.01251167]\n",
      " [0.01163132 0.01178249 0.01195145 0.01214708 0.01236939]\n",
      " [0.01182695 0.01198702 0.01218265 0.01238718 0.01260949]\n",
      " [0.01150683 0.01169357 0.01192477 0.01216487 0.01242275]\n",
      " [0.01083989 0.01104442 0.01129341 0.01156907 0.01186252]]\n"
     ]
    }
   ],
   "source": [
    "print(lMu_c[0:5,0:5,2])"
   ]
  },
  {
   "cell_type": "code",
   "execution_count": 183,
   "metadata": {},
   "outputs": [],
   "source": [
    "##This part takes So much time so leave it seperated \n",
    "sigma = np.sqrt(np.maximum(sigmaSq,0)) ## Calculate the variance\n",
    "average = np.mean(imgSeqExtended,axis=2) ## get the average of color channel for easier version of 2-D convolution\n",
    "sMap_c = np.zeros((xIdxMax,yIdxMax,s4,s4)) ## Structural consistency initializiation\n",
    "\n",
    "\n",
    "for i in range(s4):\n",
    "    for j in range(i+1,s4):                     ##Calculation comes from SSIM Formula (third term) but here it is implemented with a bit different technique\n",
    "        crossMu = lMu_c[:,:,i] * lMu_c[:,:,j]\n",
    "        crossSigma = convolve2D((average[:,:,i]*average[:,:,j]),window,0,1)  - crossMu\n",
    "        sMap_c [:,:,i,j] = (crossSigma + C) / (sigma[:,:,i] * sigma[:,:,j]+C)\n",
    "\n"
   ]
  },
  {
   "cell_type": "code",
   "execution_count": 185,
   "metadata": {},
   "outputs": [
    {
     "name": "stdout",
     "output_type": "stream",
     "text": [
      "0.9435083750969269\n"
     ]
    }
   ],
   "source": [
    "print(sMap_c[0,89,2,9])"
   ]
  },
  {
   "cell_type": "code",
   "execution_count": 149,
   "metadata": {},
   "outputs": [],
   "source": [
    "\n",
    "sMap_c_backup = sMap_c  ## it takes so much time to produce sMap_c so just a measure to override it \n",
    "squeezed_map = np.squeeze(sMap_c_backup[:, :, refIdx, :])   ## result of cross comparasion is reordered by refIdx\n",
    "sRefMap = squeezed_map + sMap_c_backup[:, :, :, refIdx]    \n",
    "sRefMap[:, :, refIdx] = np.ones((xIdxMax, yIdxMax)) ## And filled with 1\n",
    "sRefMap[sRefMap <= structureThres] = 0  ## compare and binarize.\n",
    "sRefMap[sRefMap > structureThres] = 1\n",
    "muIdxMap = (lMu_c[:, :, refIdx] < exposureThres) | (lMu_c[:, :, refIdx] > 1 - exposureThres)\n",
    "muIdxMap = np.tile(muIdxMap[:, :, np.newaxis], (1, 1, s4))\n",
    "sRefMap[muIdxMap] = 1"
   ]
  },
  {
   "cell_type": "markdown",
   "metadata": {},
   "source": [
    "UP TO NOW, we are aligning with MATLAB (tested)"
   ]
  },
  {
   "cell_type": "code",
   "execution_count": 82,
   "metadata": {},
   "outputs": [],
   "source": []
  },
  {
   "cell_type": "code",
   "execution_count": 186,
   "metadata": {},
   "outputs": [],
   "source": [
    "\n",
    "iRefMap = imfConsistency(lMu_c[:,:,:s4], refIdx, consistencyThres)  ##match_histograms function is creating a problem resulting in different results with matlab.\n",
    "\n",
    "cMap = sRefMap * iRefMap\n",
    "cMap = np.clip(cMap, 0, 1)\n",
    "RefMatrix = np.ones_like(cMap)\n",
    "\n"
   ]
  },
  {
   "cell_type": "code",
   "execution_count": 187,
   "metadata": {},
   "outputs": [],
   "source": [
    "cMap = sRefMap * iRefMap\n",
    "cMap = np.clip(cMap, 0, 1)\n",
    "RefMatrix = np.ones_like(cMap)\n",
    "t_ref = 0.01\n",
    "Ig1 = rgb2gray(imgSeqExtended[:, :, :, 14])\n",
    "Ig1[Ig1 > (1 - (t_ref * 2))] = 1\n",
    "Ig1[Ig1 < (t_ref * 2)] = 1\n",
    "Ig1[Ig1 < 1] = 0"
   ]
  },
  {
   "cell_type": "code",
   "execution_count": 189,
   "metadata": {},
   "outputs": [],
   "source": [
    "m1, m2, m3 = cMap.shape\n",
    "cMap_seq = np.zeros((m1 + wSize - 1, m2 + wSize - 1, m3))\n",
    "\n",
    "for icmp in range(m3):\n",
    "    # Resize the current cMap slice\n",
    "    resized_cMap = cv2.resize(cMap[:, :, icmp], (m2 + wSize - 1, m1 + wSize - 1))\n",
    "    # Add Ig1 to the resized map\n",
    "    cMap_seq[:, :, icmp] = resized_cMap + Ig1\n",
    "# Set all positive values to 1\n",
    "cMap_seq[cMap_seq > 0] = 1\n",
    "# Set all negative values to 0\n",
    "cMap_seq[cMap_seq < 0] = 0\n",
    "\n"
   ]
  },
  {
   "cell_type": "code",
   "execution_count": 190,
   "metadata": {},
   "outputs": [],
   "source": [
    "\n",
    "m1,m2,m3 = cMap_seq.shape\n",
    "ratio = 0.001\n",
    "area = int(np.ceil(ratio * m1 * m2))\n",
    "for i in range(m3):\n",
    "        # Remove small objects based on the calculated area\n",
    "        tempMap1 = remove_small_objects(cMap_seq[:, :, i].astype(bool), min_size=area, connectivity=2)\n",
    "\n",
    "        # Invert the binary image\n",
    "        tempMap2 = ~tempMap1\n",
    "\n",
    "        # Remove small objects from the inverted image\n",
    "        tempMap3 = remove_small_objects(tempMap2.astype(bool), min_size=area, connectivity=2)\n",
    "\n",
    "        # Finalize the cleaned mask\n",
    "        cMap_seq[:, :, i] = ~tempMap3  # Invert back to original binary format\n",
    "        \n",
    "s1, s2, s3 = cMap_seq.shape  # Get the shape of the input array\n",
    "cMap_seq_3D = np.ones((s1, s2, 3, s4), dtype=cMap_seq.dtype)  # Initialize 4D array with ones\n",
    "for i in range(3):\n",
    "    cMap_seq_3D[:, :, i, :] = cMap_seq"
   ]
  },
  {
   "cell_type": "code",
   "execution_count": 191,
   "metadata": {},
   "outputs": [],
   "source": [
    "\n",
    "s4=30\n",
    "count = 0\n",
    "\n",
    "for i in range(s4):\n",
    "        if i != refIdx:\n",
    "            count += 1\n",
    "            \n",
    "            # Perform histogram matching\n",
    "            ref_image = imgSeqExtended[:, :, :, refIdx]\n",
    "            target_image = imgSeqExtended[:, :, :, i]\n",
    "\n",
    "            # Histogram matching using skimage's match_histograms function\n",
    "            matched_image = match_histograms(target_image, ref_image, channel_axis=2)\n",
    "\n",
    "            # Clip values to ensure they are in the range [0, 1]\n",
    "            matched_image = np.clip(matched_image, 0, 1)\n",
    "            imgSeqExtended[:,:,:,s4+count-1] = matched_image\n",
    "            # Append the matched image to imgSeqColorExd\n",
    "\n",
    "\n"
   ]
  },
  {
   "cell_type": "code",
   "execution_count": 197,
   "metadata": {},
   "outputs": [
    {
     "name": "stdout",
     "output_type": "stream",
     "text": [
      "5279929\n"
     ]
    }
   ],
   "source": [
    "count = 0\n",
    "m1, m2, m3, s4 = images_algo.shape\n",
    "\n",
    "imgSeq = np.zeros((m1,m2,m3,s4))\n",
    "imgSeq = im2double(images_algo)\n",
    "\n",
    "num_diff = np.count_nonzero(RefMatrix-cMap)\n",
    "print(num_diff)\n",
    "if num_diff > m1 * m2 * m3 * consistencyThres:  # Adjusted to check against the first slice\n",
    "    for i in range(s4):\n",
    "        if i != refIdx:\n",
    "            count += 1\n",
    "            # Update imgSeqColor using masking\n",
    "            imgSeq[:,:,:,i] = (imgSeq[:,:,:,i] * cMap_seq_3D[:,:,:,i] + \\\n",
    "                                   (imgSeqExtended[:,:,:, s4 + count - 1] * np.logical_not(cMap_seq_3D[:,:,:, i])))"
   ]
  },
  {
   "cell_type": "markdown",
   "metadata": {},
   "source": [
    "Now for image decomposition line 209 in the commented matlab code in git. "
   ]
  },
  {
   "cell_type": "code",
   "execution_count": 200,
   "metadata": {},
   "outputs": [],
   "source": [
    "\n",
    "## get luminance again? \n",
    "\n",
    "for i in range(s4):\n",
    "    \n",
    "    Igrey = rgb2grey(imgSeq[:,:,:,i])\n",
    "    IgPad = padimage"
   ]
  },
  {
   "cell_type": "code",
   "execution_count": null,
   "metadata": {},
   "outputs": [],
   "source": [
    "def symmetric_pad(a_size, pad_size, direction):\n",
    "    num_dims = len(pad_size)\n",
    "    idx = [None] * num_dims  # Create a list to hold indices for each dimension\n",
    "\n",
    "    for k in range(num_dims):\n",
    "        M = a_size[k]\n",
    "        dim_nums = np.concatenate((np.arange(1, M + 1), np.arange(M, 0, -1))).astype(np.uint32)\n",
    "        p = pad_size[k]\n",
    "        idx[k] = dim_nums[np.mod(np.arange(-p, M + p), 2 * M)]\n",
    "        \n",
    "    return idx"
   ]
  },
  {
   "cell_type": "code",
   "execution_count": null,
   "metadata": {},
   "outputs": [],
   "source": []
  }
 ],
 "metadata": {
  "kernelspec": {
   "display_name": "Python 3",
   "language": "python",
   "name": "python3"
  },
  "language_info": {
   "codemirror_mode": {
    "name": "ipython",
    "version": 3
   },
   "file_extension": ".py",
   "mimetype": "text/x-python",
   "name": "python",
   "nbconvert_exporter": "python",
   "pygments_lexer": "ipython3",
   "version": "3.10.12"
  }
 },
 "nbformat": 4,
 "nbformat_minor": 2
}

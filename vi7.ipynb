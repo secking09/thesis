{
 "cells": [
  {
   "cell_type": "code",
   "execution_count": 604,
   "metadata": {},
   "outputs": [],
   "source": [
    "import numpy as np  \n",
    "import os \n",
    "import cv2 \n",
    "from scipy.ndimage import convolve\n",
    "from skimage.exposure import match_histograms \n",
    "from skimage.morphology import remove_small_objects, binary_opening\n",
    "import numpy as np\n",
    "from scipy.signal import convolve2d"
   ]
  },
  {
   "cell_type": "markdown",
   "metadata": {},
   "source": [
    "Section below for uploading the images on the system. "
   ]
  },
  {
   "cell_type": "code",
   "execution_count": 605,
   "metadata": {},
   "outputs": [
    {
     "name": "stdout",
     "output_type": "stream",
     "text": [
      "(384, 512, 3, 4)\n"
     ]
    }
   ],
   "source": [
    "dataset_path = '/home/sg24duk/Desktop/datapython/'\n",
    "\n",
    "images = []\n",
    "labels = []\n",
    "\n",
    "\n",
    "finallypath = sorted((os.listdir(dataset_path)))\n",
    "i = 0\n",
    "for filename in finallypath:\n",
    "    \n",
    "    if filename.endswith(('.png', '.jpg', '.jpeg', '.gif', '.bmp')): \n",
    "        \n",
    "        img_path = os.path.join(dataset_path,filename)\n",
    "        img = cv2.imread(img_path)\n",
    "        img = cv2.cvtColor(img,cv2.COLOR_BGR2RGB) ## Fix for order of Color channels\n",
    "        images.append(img)\n",
    "    \n",
    "\n",
    "# Convert to numpy arrays\n",
    "images = np.array(images)\n",
    "images_algo = np.transpose(images, (1,2,3,0))\n",
    "\n",
    "print(images_algo.shape)"
   ]
  },
  {
   "cell_type": "markdown",
   "metadata": {},
   "source": [
    "Parameters Area "
   ]
  },
  {
   "cell_type": "code",
   "execution_count": 606,
   "metadata": {},
   "outputs": [],
   "source": [
    "[s1,s2,s3,s4] = (images_algo.shape) # size of the images\n",
    "\n",
    "refIdx = 2 ### State the REF pic\n",
    "\n",
    "r  = 12;                    # slide size of the guided filter\n",
    "alpha = 1.1;                # the parameters for the last fusion\n",
    "SigD = 0.12                 # the Gauss parameters in the weigh map of the detail layer fusion\n",
    "p = 4                       # ?\n",
    "gSig = 0.2                  # \n",
    "lSig = 0.5                  # \n",
    "wSize = 21                  # Square Kernel length\n",
    "stepSize = 2                \n",
    "exposureThres = 0.01        ##\n",
    "consistencyThres = 0.0987 ## Pay attention to here, I did this because there are very small discrepancies between python histogram and MATLAB\n",
    "structureThres = 0.90\n",
    "overexposure_pa = 0.5\n",
    "C = 0.03 ** 2 / 2          # inherited from SSIM\n",
    "epsil = 0.25               # (0.5*1)^2;\n",
    "np_i = s1*s2            \n",
    "H = np.ones((7,7))            # small average filter is enough\n",
    "H = H / H.sum()               # Normalized it. \n",
    "Fake_Ref = np.zeros((s1, s2, s3))\n",
    "L = np.zeros((s1, s2, s4))\n",
    "gMu = np.zeros((s1, s2, s4))      # global mean intensity\n",
    "BaseMu = np.zeros((s1, s2, s4))   # local mean intensity\n",
    "\n",
    "numExd = 2*s4 - 1\n",
    "\n",
    "xIdxMax = s1 - wSize + 1\n",
    "yIdxMax = s2 - wSize + 1\n",
    "\n",
    "window = np.ones((wSize, wSize))\n",
    "window /=np.sum(window)\n",
    "window3D = np.repeat(window[:, :, np.newaxis], 3, axis=2)\n",
    "\n",
    "\n",
    "lMu_c = np.zeros((xIdxMax, yIdxMax, numExd))  # Local mean intensity\n",
    "lMuSq_c = np.zeros((xIdxMax, yIdxMax, numExd))  # Local mean intensity squared\n",
    "sigmaSq = np.zeros((xIdxMax, yIdxMax, numExd))  # Signal strength from variance\n"
   ]
  },
  {
   "cell_type": "markdown",
   "metadata": {},
   "source": [
    "Function Define Area "
   ]
  },
  {
   "cell_type": "code",
   "execution_count": 607,
   "metadata": {},
   "outputs": [],
   "source": [
    "def im2double(image):\n",
    "    return image.astype(np.float32) / 255.0   ## Images are converted to double!\n",
    "\n",
    "def convolve2D(image, kernel, padding=0, strides=1): ## To implement 2-D Convolution operation. \n",
    "\n",
    "    # Cross Correlation\n",
    "    kernel = np.flipud(np.fliplr(kernel))\n",
    "\n",
    "    # Gather Shapes of Kernel + Image + Padding\n",
    "    xKernShape = kernel.shape[0]\n",
    "    yKernShape = kernel.shape[1]\n",
    "    xImgShape = image.shape[0]\n",
    "    yImgShape = image.shape[1]\n",
    "\n",
    "    # Shape of Output Convolution\n",
    "    xOutput = int(((xImgShape - xKernShape + 2 * padding) / strides) + 1)\n",
    "    yOutput = int(((yImgShape - yKernShape + 2 * padding) / strides) + 1)\n",
    "    output = np.zeros((xOutput, yOutput))\n",
    "\n",
    "    # Apply Equal Padding to All Sides\n",
    "    if padding != 0:\n",
    "        imagePadded = np.zeros((image.shape[0] + padding*2, image.shape[1] + padding*2))\n",
    "        imagePadded[int(padding):int(-1 * padding), int(padding):int(-1 * padding)] = image\n",
    "        print(imagePadded)\n",
    "    else:\n",
    "        imagePadded = image\n",
    "\n",
    "    # Iterate through image\n",
    "    for y in range(image.shape[1]):\n",
    "        # Exit Convolution\n",
    "        if y > image.shape[1] - yKernShape:\n",
    "            break\n",
    "        # Only Convolve if y has gone down by the specified Strides\n",
    "        if y % strides == 0:\n",
    "            for x in range(image.shape[0]):\n",
    "                # Go to next row once kernel is out of bounds\n",
    "                if x > image.shape[0] - xKernShape:\n",
    "                    break\n",
    "                try:\n",
    "                    # Only Convolve if x has moved by the specified Strides\n",
    "                    if x % strides == 0:\n",
    "                        output[x, y] = (kernel * imagePadded[x: x + xKernShape, y: y + yKernShape]).sum()\n",
    "                except:\n",
    "                    break\n",
    "\n",
    "    return output\n",
    "\n",
    "def imfConsistency(mu, refIdx, consistencyThres): ## Imitation of imfConsistency.m \n",
    "    # Get the dimensions of the input 3D array `mu`\n",
    "    s1, s2, s3 = mu.shape\n",
    "    \n",
    "    # Initialize cMap with zeros and set the reference slice to ones\n",
    "    cMap = np.zeros((s1, s2, s3))\n",
    "    cMap[:, :, refIdx] = np.ones((s1, s2))\n",
    "    \n",
    "    # Reference slice of `mu`\n",
    "    refMu = mu[:, :, refIdx]\n",
    "    \n",
    "    # Histogram matching and comparison for each slice except the reference\n",
    "    for i in range(s3):\n",
    "        if i != refIdx:\n",
    "            # Histogram matching\n",
    "            #mu_hist, bin_edges = np.histogram(lMu_c[:,:,0], bins=256, range=(0,1))\n",
    "            #ref_hist, _ = np.histogram(lMu_c[:,:,2], bins=256, range=(0,1))\n",
    "            cMu = match_histograms(lMu_c[:,:,i], lMu_c[:,:,refIdx], channel_axis=None)\n",
    "            # Calculate absolute difference and update cMap based on threshold\n",
    "            diff = np.abs(cMu - refMu)\n",
    "            cMap[:, :, i] = diff <= consistencyThres  # Binary map based on consistency threshold\n",
    "    \n",
    "    return cMap\n",
    "\n",
    "def rgb2grey(X): ## This is the custom one. \n",
    "    orig_shape = X.shape\n",
    "    threeD = (X.ndim == 3)\n",
    "\n",
    "    # Define the transformation coefficients (for red, green, blue channels respectively)\n",
    "    coef = np.array([0.2, 0.6, 0.2])\n",
    "\n",
    "    if threeD:\n",
    "        # RGB case\n",
    "        if X.dtype in [np.float32, np.float64]:\n",
    "            # Reshape to a 2D array where each row is a pixel, with 3 columns (R, G, B)\n",
    "            X_reshaped = X.reshape(-1, 3)\n",
    "            # Apply grayscale transformation\n",
    "            I = np.dot(X_reshaped, coef)\n",
    "            # Clip to ensure values are within [0, 1] range for float types\n",
    "            I = np.clip(I, 0, 1)\n",
    "            # Reshape back to the original 2D dimensions\n",
    "            I = I.reshape(orig_shape[0], orig_shape[1])\n",
    "        \n",
    "        else:\n",
    "            # For uint8 or uint16 types, convert by scaling appropriately\n",
    "            I = np.dot(X, coef).astype(X.dtype)\n",
    "    else:\n",
    "        # For 2D input (already grayscale), repeat channels for RGB equivalent output\n",
    "        I = np.dot(X, coef)\n",
    "        I = np.clip(I, 0, 1)\n",
    "        I = np.stack([I, I, I], axis=-1)\n",
    "    \n",
    "    return I\n",
    "\n",
    "def rgb2gray(image): ## that's from MATLAB\n",
    "    \"\"\"\n",
    "    Convert an RGB image to grayscale.\n",
    "    \n",
    "    Parameters:\n",
    "    - image: A 3D NumPy array (H, W, 3) representing an RGB image.\n",
    "\n",
    "    Returns:\n",
    "    - A 2D NumPy array (H, W) representing the grayscale image.\n",
    "    \"\"\"\n",
    "    # Ensure the input image is a 3D array\n",
    "    if image.ndim != 3 or image.shape[2] != 3:\n",
    "        raise ValueError(\"Input image must be a 3D array with 3 channels (RGB).\")\n",
    "    \n",
    "    # Define the coefficients for RGB to grayscale conversion\n",
    "    coef = np.array([0.2989, 0.5870, 0.1140])\n",
    "    \n",
    "    # Convert to grayscale using dot product\n",
    "    gray_image = np.dot(image[..., :3], coef)\n",
    "    \n",
    "    # Clip values to [0, 1] if image is normalized, or [0, 255] if uint8\n",
    "    if gray_image.max() > 1:\n",
    "        gray_image = (np.clip(gray_image, 0, 255).astype(np.uint8)) / 255\n",
    "    else:\n",
    "        gray_image = np.clip(gray_image, 0, 1)\n",
    "    \n",
    "    return gray_image\n",
    "\n",
    "def imfConsistency(mu, refIdx, consistencyThres):\n",
    "    # Get the dimensions of the input 3D array `mu`\n",
    "    s1, s2, s3 = mu.shape\n",
    "    \n",
    "    # Initialize cMap with zeros and set the reference slice to ones\n",
    "    cMap = np.zeros((s1, s2, s3))\n",
    "    cMap[:, :, refIdx] = np.ones((s1, s2))\n",
    "    \n",
    "    # Reference slice of `mu`\n",
    "    refMu = mu[:, :, refIdx]\n",
    "    \n",
    "    # Histogram matching and comparison for each slice except the reference\n",
    "    for i in range(s3):\n",
    "        if i != refIdx:\n",
    "            # Histogram matching\n",
    "            cMu = match_histograms(mu[:, :, i], refMu, channel_axis=None)\n",
    "            \n",
    "            # Calculate absolute difference and update cMap based on threshold\n",
    "            diff = np.abs(cMu - refMu)\n",
    "            cMap[:, :, i] = diff <= consistencyThres  # Binary map based on consistency threshold\n",
    "    \n",
    "    return cMap\n",
    "\n",
    "\n",
    "\n",
    "\n"
   ]
  },
  {
   "cell_type": "markdown",
   "metadata": {},
   "source": []
  },
  {
   "cell_type": "code",
   "execution_count": 608,
   "metadata": {},
   "outputs": [],
   "source": [
    "### Convert Every image to double \n",
    "\n",
    "imgSeqExtended = np.zeros((s1,s2,s3,numExd))\n",
    "imgSeq = np.zeros((s1,s2,s3,s4))\n",
    "imgSeqExtended[:,:,:,:s4] = im2double(images_algo)\n",
    "## Convert to double precision and normalize\n",
    "#normalized_images = images_algo.astype(np.float64) / 255.0\n",
    "#\n",
    "## Round only to 4th decimal place persistently\n",
    "#rounded_images = np.floor(normalized_images * 10000 + 0.5) / 10000\n",
    "#\n",
    "## Assign to arrays\n",
    "#imgSeqExtended[:, :, :, :s4] = rounded_images\n",
    "#imgSeq = im2double(images_algo)\n",
    "\n",
    "### Initialize temporary values. \n",
    "temp = np.zeros((s1,s2,s3))\n",
    "sq_temp = np.zeros((s1,s2,s3))\n",
    "## calculate local mean intensity (also might be called luminance) and Squared value of it to calculate sigma squared eventually. \n",
    "for i in range(numExd):\n",
    "    temp = imgSeqExtended[:,:,:,i]\n",
    "    sq_temp = temp*temp\n",
    "    temp_avg    = np.mean(temp,axis=2)\n",
    "    sq_temp_avg = np.mean(sq_temp,axis=2)\n",
    "    #lMu_c[:,:,i] = convolve2D(temp_avg,window,0,1)      ##Convolution with averaging kernel \n",
    "    lMu_c[:,:,i] = convolve2d(temp_avg,window,mode='valid')      ##Convolution with averaging kernel \n",
    "    lMuSq_c[:,:,i]= lMu_c[:,:,i] * lMu_c[:,:,i]\n",
    "    sigmaSq[:,:,i] = convolve2d(sq_temp_avg,window,mode='valid') - lMuSq_c[:,:,i] ## Calculate the variance \n",
    "\n",
    "\n",
    " "
   ]
  },
  {
   "cell_type": "code",
   "execution_count": 609,
   "metadata": {},
   "outputs": [
    {
     "name": "stdout",
     "output_type": "stream",
     "text": [
      "0.00909400840507412\n"
     ]
    }
   ],
   "source": [
    "\n",
    "\n",
    "temp = imgSeqExtended[:,:,:,0]\n",
    "\n",
    "sq_temp = temp*temp\n",
    "temp_avg    = np.mean(temp,axis=2)\n",
    "sq_temp_avg = np.mean(sq_temp,axis=2)\n",
    "\n",
    "yarrak = convolve2d(temp_avg,window,mode='valid')\n",
    "print(yarrak[123,124])"
   ]
  },
  {
   "cell_type": "code",
   "execution_count": 610,
   "metadata": {},
   "outputs": [
    {
     "name": "stdout",
     "output_type": "stream",
     "text": [
      "[0.03529412 0.03529412 0.03529412 0.03529412 0.03529412 0.02352941\n",
      " 0.00784314 0.02745098 0.03529412 0.03921569 0.04313726 0.03921569\n",
      " 0.01960784 0.00784314 0.00784314 0.00784314 0.00784314 0.00392157\n",
      " 0.00784314 0.01176471]\n"
     ]
    }
   ],
   "source": [
    "print(imgSeqExtended[0:20,0,0,0])   ## Not sure if we can read correctly. "
   ]
  },
  {
   "cell_type": "code",
   "execution_count": 611,
   "metadata": {},
   "outputs": [
    {
     "name": "stdout",
     "output_type": "stream",
     "text": [
      "0.6619151480726833\n"
     ]
    }
   ],
   "source": [
    "print(lMu_c[123,124,3])"
   ]
  },
  {
   "cell_type": "code",
   "execution_count": 612,
   "metadata": {},
   "outputs": [
    {
     "name": "stdout",
     "output_type": "stream",
     "text": [
      "0.6619151480726833\n"
     ]
    }
   ],
   "source": [
    "print(lMu_c[123,124,3])"
   ]
  },
  {
   "cell_type": "code",
   "execution_count": 616,
   "metadata": {},
   "outputs": [],
   "source": [
    "##This part takes So much time so leave it seperated \n",
    "sigma = np.sqrt(np.maximum(sigmaSq,0)) ## Calculate the variance\n",
    "mean = np.zeros((s1,s2)) ## get the average of color channel for easier version of 2-D convolution\n",
    "sMap_c = np.zeros((xIdxMax,yIdxMax,s4,s4)) ## Structural consistency initializiation\n",
    "cross = np.zeros((s1,s2,s3))\n",
    "\n",
    "for i in range(s4):\n",
    "    for j in range(i+1,s4):                     ##Calculation comes from SSIM Formula (third term) but here it is implemented with a bit different technique\n",
    "        crossMu = lMu_c[:,:,i] * lMu_c[:,:,j]\n",
    "        cross = imgSeqExtended[:,:,:,i] * imgSeqExtended[:,:,:,j]\n",
    "        mean = np.mean(cross, axis=2)\n",
    "        crossSigma = convolve2d(mean,window,mode='valid')  - crossMu\n",
    "        sMap_c [:,:,i,j] = (crossSigma + C) / (sigma[:,:,i] * sigma[:,:,j]+C)\n",
    "\n"
   ]
  },
  {
   "cell_type": "code",
   "execution_count": 617,
   "metadata": {},
   "outputs": [],
   "source": [
    "cross = np.zeros((s1,s2,s3))\n",
    "mean = np.zeros((s1,s2))\n",
    "average = np.mean(imgSeqExtended,axis=2)\n",
    "\n",
    "\n",
    "cross = imgSeqExtended[:,:,:,0] * imgSeqExtended[:,:,:,1]\n",
    "mean = np.mean(cross, axis=2)\n",
    "yarrak = average[:,:,i]*average[:,:,j]"
   ]
  },
  {
   "cell_type": "code",
   "execution_count": 618,
   "metadata": {},
   "outputs": [
    {
     "name": "stdout",
     "output_type": "stream",
     "text": [
      "0.9073052339410886\n"
     ]
    }
   ],
   "source": [
    "print(sMap_c[9,288,0,1])"
   ]
  },
  {
   "cell_type": "code",
   "execution_count": 562,
   "metadata": {},
   "outputs": [],
   "source": [
    "\n",
    "sMap_c_backup = sMap_c  ## it takes so much time to produce sMap_c so just a measure to override it \n",
    "\n",
    "## UPDATE REFIDX \n",
    "refidx = 2\n",
    "\n",
    "squeezed_map = np.squeeze(sMap_c_backup[:, :, refIdx, :])   ## result of cross comparasion is reordered by refIdx\n",
    "sRefMap = squeezed_map + sMap_c_backup[:, :, :, refIdx]    \n",
    "sRefMap[:, :, refIdx] = np.ones((xIdxMax, yIdxMax)) ## And filled with 1\n",
    "sRefMap[sRefMap <= structureThres] = 0  ## compare and binarize.\n",
    "sRefMap[sRefMap > structureThres] = 1\n",
    "muIdxMap = (lMu_c[:, :, refIdx] < exposureThres) | (lMu_c[:, :, refIdx] > 1 - exposureThres)\n",
    "muIdxMap = np.tile(muIdxMap[:, :, np.newaxis], (1, 1, s4))\n",
    "sRefMap[muIdxMap] = 1"
   ]
  },
  {
   "cell_type": "markdown",
   "metadata": {},
   "source": [
    "UP TO NOW, we are aligning with MATLAB (tested)"
   ]
  },
  {
   "cell_type": "code",
   "execution_count": 563,
   "metadata": {},
   "outputs": [],
   "source": [
    "### MATHEMATHICAL MORPHOLOGY ##### \n",
    "\n",
    "\n",
    "### Create disk-shaped structuring element (like strel('disk', wSize) in MATLAB)\n",
    "##se = cv2.getStructuringElement(cv2.MORPH_ELLIPSE, (wSize, wSize))\n",
    "##\n",
    "### Perform the opening operation (erosion followed by dilation) for each slice\n",
    "##for k in range(s4):\n",
    "##    sRefMap[:, :, k] = cv2.morphologyEx(sRefMap[:, :, k].astype(np.float32), cv2.MORPH_OPEN, se)\n",
    "##\n",
    "### Clear the variable (in Python, not necessary, but to mimic memory cleaning)\n",
    "##del sRefMap\n",
    "\n",
    "\n"
   ]
  },
  {
   "cell_type": "markdown",
   "metadata": {},
   "source": [
    "IMF TESTING STARTS HERE "
   ]
  },
  {
   "cell_type": "code",
   "execution_count": 564,
   "metadata": {},
   "outputs": [],
   "source": [
    "#### IMF TESTING #####\n",
    "mu_hist, bin_edges = np.histogram(lMu_c[:,:,0], bins=256, range=(0,1))\n",
    "ref_hist, _ = np.histogram(lMu_c[:,:,2], bins=256, range=(0,1))\n",
    "cMu = match_histograms(lMu_c[:,:,0], lMu_c[:,:,2], channel_axis=None)"
   ]
  },
  {
   "cell_type": "code",
   "execution_count": 565,
   "metadata": {},
   "outputs": [
    {
     "name": "stdout",
     "output_type": "stream",
     "text": [
      "483206\n"
     ]
    }
   ],
   "source": [
    "num_diff = np.count_nonzero(sRefMap)\n",
    "print(num_diff)"
   ]
  },
  {
   "cell_type": "code",
   "execution_count": null,
   "metadata": {},
   "outputs": [],
   "source": []
  },
  {
   "cell_type": "code",
   "execution_count": 566,
   "metadata": {},
   "outputs": [
    {
     "data": {
      "text/plain": [
       "array([0.04957835, 0.04640671, 0.04259482, 0.03839758, 0.03412624,\n",
       "       0.03025803, 0.02674848, 0.0233901 , 0.02015621, 0.01701125])"
      ]
     },
     "execution_count": 566,
     "metadata": {},
     "output_type": "execute_result"
    }
   ],
   "source": [
    "lMu_c[120:130,300,0]"
   ]
  },
  {
   "cell_type": "code",
   "execution_count": 567,
   "metadata": {},
   "outputs": [],
   "source": [
    "cMu = match_histograms(lMu_c[:,:,1], lMu_c[:,:,refIdx], channel_axis=None)"
   ]
  },
  {
   "cell_type": "code",
   "execution_count": null,
   "metadata": {},
   "outputs": [],
   "source": []
  },
  {
   "cell_type": "code",
   "execution_count": 568,
   "metadata": {},
   "outputs": [
    {
     "name": "stdout",
     "output_type": "stream",
     "text": [
      "[0.51050644 0.51234717 0.51383517 0.519141   0.52634388 0.53739719\n",
      " 0.55164882 0.57069051 0.58755355 0.60210455]\n"
     ]
    }
   ],
   "source": [
    "print(cMu[190,50:60])"
   ]
  },
  {
   "cell_type": "code",
   "execution_count": 569,
   "metadata": {},
   "outputs": [
    {
     "name": "stdout",
     "output_type": "stream",
     "text": [
      "[0.09012198 0.09268893 0.09473419 0.09684467 0.09744343 0.09643265\n",
      " 0.09441407 0.09609177 0.09750271 0.0995124  0.10330948]\n"
     ]
    }
   ],
   "source": [
    "diff = np.abs(cMu -lMu_c[:,:,refIdx] )\n",
    "print(diff[190,50:61])"
   ]
  },
  {
   "cell_type": "code",
   "execution_count": null,
   "metadata": {},
   "outputs": [],
   "source": []
  },
  {
   "cell_type": "code",
   "execution_count": 620,
   "metadata": {},
   "outputs": [],
   "source": [
    "\n",
    "iRefMap = imfConsistency(lMu_c[:,:,:s4], refIdx, consistencyThres)  ##match_histograms function is creating a problem resulting in different results with matlab.\n",
    "\n",
    "cMap = sRefMap * iRefMap\n",
    "cMap = np.clip(cMap, 0, 1)\n",
    "RefMatrix = np.ones_like(cMap)\n",
    "\n"
   ]
  },
  {
   "cell_type": "code",
   "execution_count": 571,
   "metadata": {},
   "outputs": [
    {
     "name": "stdout",
     "output_type": "stream",
     "text": [
      "668993\n"
     ]
    }
   ],
   "source": [
    "num_diff = np.count_nonzero(iRefMap)\n",
    "print(num_diff)"
   ]
  },
  {
   "cell_type": "code",
   "execution_count": 572,
   "metadata": {},
   "outputs": [
    {
     "name": "stdout",
     "output_type": "stream",
     "text": [
      "468850\n"
     ]
    }
   ],
   "source": [
    "num_diff = np.count_nonzero(cMap)\n",
    "print(num_diff)"
   ]
  },
  {
   "cell_type": "code",
   "execution_count": 573,
   "metadata": {},
   "outputs": [
    {
     "name": "stdout",
     "output_type": "stream",
     "text": [
      "[1. 1. 1. 1. 1. 1. 1. 1. 1. 1. 1. 1. 1. 1. 1. 1. 1. 1. 1. 1. 1. 1. 1. 1.\n",
      " 1. 1. 1. 1. 1. 1. 1. 1. 1. 1. 1. 1. 1. 1. 1. 1. 1.]\n"
     ]
    }
   ],
   "source": [
    "print(iRefMap[300,20:61,3])"
   ]
  },
  {
   "cell_type": "markdown",
   "metadata": {},
   "source": [
    "IMF TESTS END HERE!"
   ]
  },
  {
   "cell_type": "code",
   "execution_count": 621,
   "metadata": {},
   "outputs": [
    {
     "name": "stdout",
     "output_type": "stream",
     "text": [
      "0.6296615906953812\n"
     ]
    }
   ],
   "source": [
    "t_ref = 0.01\n",
    "Ig1 = rgb2gray(imgSeqExtended[:, :, :, refIdx])\n",
    "print(Ig1[321,101])\n",
    "Ig1[Ig1 > (1 - (t_ref * 2))] = 1\n",
    "Ig1[Ig1 < (t_ref * 2)] = 1\n",
    "Ig1[Ig1 < 1] = 0"
   ]
  },
  {
   "cell_type": "code",
   "execution_count": 622,
   "metadata": {},
   "outputs": [],
   "source": [
    "m1, m2, m3 = cMap.shape\n",
    "cMap_seq = np.zeros((m1 + wSize - 1, m2 + wSize - 1, m3))\n",
    "\n",
    "for icmp in range(m3):\n",
    "    # Resize the current cMap slice\n",
    "    resized_cMap = cv2.resize(cMap[:, :, icmp], (m2 + wSize - 1, m1 + wSize - 1))\n",
    "    # Add Ig1 to the resized map\n",
    "    cMap_seq[:, :, icmp] = resized_cMap + Ig1\n",
    "# Set all positive values to 1\n",
    "cMap_seq[cMap_seq > 0] = 1\n",
    "# Set all negative values to 0\n",
    "cMap_seq[cMap_seq < 0] = 0\n",
    "\n"
   ]
  },
  {
   "cell_type": "code",
   "execution_count": 623,
   "metadata": {},
   "outputs": [
    {
     "name": "stdout",
     "output_type": "stream",
     "text": [
      "[0. 0. 0. 0. 0. 0. 0. 0. 0. 0. 0. 0. 0. 0. 0. 0. 0. 0. 0. 1. 0. 1. 1. 1.\n",
      " 0. 0. 0. 0. 0. 0. 0.]\n"
     ]
    }
   ],
   "source": [
    "print(cMap[59,159:190,0])"
   ]
  },
  {
   "cell_type": "code",
   "execution_count": 624,
   "metadata": {},
   "outputs": [
    {
     "name": "stdout",
     "output_type": "stream",
     "text": [
      "[0. 0. 0. 0. 0. 0. 0. 0. 0. 0. 0. 0. 0. 0. 0. 0. 0. 0. 0. 1. 0. 1. 1. 1.\n",
      " 0. 0. 0. 0. 0. 0. 0.]\n"
     ]
    }
   ],
   "source": [
    "print(sRefMap[59,159:190,0])"
   ]
  },
  {
   "cell_type": "code",
   "execution_count": 625,
   "metadata": {},
   "outputs": [
    {
     "name": "stdout",
     "output_type": "stream",
     "text": [
      "[1. 1. 1. 1. 1. 1. 1. 1. 1. 1. 1. 1. 1. 1. 1. 1. 1. 1. 1. 1. 1. 1. 1. 1.\n",
      " 1. 1. 1. 1. 1. 1. 1.]\n"
     ]
    }
   ],
   "source": [
    "print(iRefMap[59,159:190,0])"
   ]
  },
  {
   "cell_type": "code",
   "execution_count": null,
   "metadata": {},
   "outputs": [],
   "source": []
  },
  {
   "cell_type": "code",
   "execution_count": 579,
   "metadata": {},
   "outputs": [],
   "source": [
    "######################## MORPHOLOGY AGAIN BRO ########################\n",
    "m1,m2,m3 = cMap_seq.shape\n",
    "ratio = 0.001\n",
    "area = int(np.ceil(ratio * m1 * m2))\n",
    "for i in range(m3):\n",
    "        # Remove small objects based on the calculated area\n",
    "        tempMap1 = remove_small_objects(cMap_seq[:, :, i].astype(bool), min_size=area, connectivity=2)\n",
    "        # Invert the binary image\n",
    "        tempMap2 = ~tempMap1\n",
    "        # Remove small objects from the inverted image\n",
    "        tempMap3 = remove_small_objects(tempMap2.astype(bool), min_size=area, connectivity=2)\n",
    "        # Finalize the cleaned mask\n",
    "        cMap_seq[:, :, i] = ~tempMap3  # Invert back to original binary format\n",
    "        \n",
    "\n",
    "\n",
    "\n",
    "\n",
    "\n",
    "\n",
    "\n",
    "\n",
    "s1, s2, s3 = cMap_seq.shape  # Get the shape of the input array\n",
    "cMap_seq_3D = np.ones((s1, s2, 3, s4), dtype=cMap_seq.dtype)  # Initialize 4D array with ones\n",
    "for i in range(3):\n",
    "    cMap_seq_3D[:, :, i, :] = cMap_seq"
   ]
  },
  {
   "cell_type": "code",
   "execution_count": 627,
   "metadata": {},
   "outputs": [
    {
     "name": "stdout",
     "output_type": "stream",
     "text": [
      "4\n",
      "5\n",
      "6\n"
     ]
    }
   ],
   "source": [
    "##generating pseudo exposures\n",
    "count = 0\n",
    "for i in range(s4):\n",
    "        if i != refIdx:\n",
    "            count += 1 \n",
    "            \n",
    "            # Perform histogram matching\n",
    "            ref_image = imgSeqExtended[:, :, :, refIdx]\n",
    "            target_image = imgSeqExtended[:, :, :, i]\n",
    "\n",
    "            # Histogram matching using skimage's match_histograms function\n",
    "            matched_image = match_histograms(ref_image, target_image, channel_axis=2) ### THIS TIME WE are taking inputs as reference to matching\n",
    "\n",
    "            # Clip values to ensure they are in the range [0, 1]\n",
    "            matched_image = np.clip(matched_image, 0, 1)\n",
    "            print(s4+count-1)\n",
    "            imgSeqExtended[:,:,:,s4+count-1] = matched_image\n",
    "            # Append the matched image to imgSeqColorExd\n",
    "\n",
    "\n"
   ]
  },
  {
   "cell_type": "code",
   "execution_count": 626,
   "metadata": {},
   "outputs": [
    {
     "name": "stdout",
     "output_type": "stream",
     "text": [
      "\n",
      "---------reference Image---------\n",
      "[0.14117648 0.14509805 0.35686275 0.94901961 0.5529412  0.25490198\n",
      " 0.43921569 0.80392158 0.81568629 0.47450981 0.29411766]\n",
      "--------------------------------- \n",
      "\n",
      "\n",
      "---------Target Image---------\n",
      "[0.68235296 0.70588237 0.9137255  1.         0.97254902 0.90980393\n",
      " 0.96470588 1.         1.         0.97254902 0.94509804]\n",
      "--------------------------------- \n",
      "\n",
      "\n",
      "---------Histogram1---------\n",
      "[0.67801878 0.68609658 0.9530513  0.99876292 0.99306197 0.86796569\n",
      " 0.98039216 0.99745935 0.99755128 0.98656526 0.90958173]\n",
      "--------------------------------- \n",
      "\n",
      "\n",
      "---------Histogram2---------\n",
      "[0.14328521 0.1546584  0.29872958 1.         0.40868348 0.29437518\n",
      " 0.38441343 1.         1.         0.40868348 0.34255802]\n",
      "--------------------------------- \n",
      "\n"
     ]
    }
   ],
   "source": [
    "ref_image = imgSeqExtended[:, :, :, refIdx]\n",
    "target_image = imgSeqExtended[:, :, :, 3]\n",
    "\n",
    "print(\"\\n---------reference Image---------\")\n",
    "print(ref_image[152:163,125,0])\n",
    "print(\"--------------------------------- \\n\")\n",
    "print(\"\\n---------Target Image---------\")\n",
    "print(target_image[152:163,125,0])\n",
    "print(\"--------------------------------- \\n\")\n",
    "print(\"\\n---------Histogram1---------\")\n",
    "bruder = match_histograms(ref_image, target_image, channel_axis=2) \n",
    "print(bruder[152:163,125,0])\n",
    "print(\"--------------------------------- \\n\")\n",
    "schwester = match_histograms(target_image, ref_image, channel_axis=2) \n",
    "print(\"\\n---------Histogram2---------\")\n",
    "print(schwester[152:163,125,0])\n",
    "print(\"--------------------------------- \\n\")"
   ]
  },
  {
   "cell_type": "code",
   "execution_count": 516,
   "metadata": {},
   "outputs": [
    {
     "name": "stdout",
     "output_type": "stream",
     "text": [
      "[0.62925839 0.63968668 0.95179479 0.99914906 0.9962278  0.84939082\n",
      " 0.98695188 0.99807326 0.99815735 0.99238146 0.89664972]\n"
     ]
    }
   ],
   "source": [
    "print(imgSeqExtended[152:163,125,0,6])"
   ]
  },
  {
   "cell_type": "code",
   "execution_count": 628,
   "metadata": {},
   "outputs": [],
   "source": [
    "s1, s2, s3 = cMap_seq.shape  # Get the shape of the input array\n",
    "cMap_seq_3D = np.ones((s1, s2, 3, s4), dtype=cMap_seq.dtype)  # Initialize 4D array with ones\n",
    "for i in range(3):\n",
    "    cMap_seq_3D[:, :, i, :] = cMap_seq"
   ]
  },
  {
   "cell_type": "code",
   "execution_count": 629,
   "metadata": {},
   "outputs": [
    {
     "name": "stdout",
     "output_type": "stream",
     "text": [
      "247501\n"
     ]
    }
   ],
   "source": [
    "count = 0\n",
    "m1, m2, m3, s4 = images_algo.shape\n",
    "\n",
    "imgSeq = np.zeros((m1,m2,m3,s4))\n",
    "imgSeq = im2double(images_algo)\n",
    "\n",
    "num_diff = np.count_nonzero(RefMatrix-cMap)\n",
    "print(num_diff)\n",
    "if num_diff > m1 * m2 * m3 * consistencyThres:  # Adjusted to check against the first slice\n",
    "    for i in range(s4):\n",
    "        if i != refIdx:\n",
    "            count += 1\n",
    "            # Update imgSeqColor using masking\n",
    "            imgSeq[:,:,:,i] = (imgSeq[:,:,:,i] * cMap_seq_3D[:,:,:,i] + \\\n",
    "                                   (imgSeqExtended[:,:,:, s4 + count - 1] * np.logical_not(cMap_seq_3D[:,:,:, i])))"
   ]
  },
  {
   "cell_type": "markdown",
   "metadata": {},
   "source": [
    "Now for image decomposition line 209 in the commented matlab code in git. "
   ]
  },
  {
   "cell_type": "code",
   "execution_count": 630,
   "metadata": {},
   "outputs": [
    {
     "name": "stdout",
     "output_type": "stream",
     "text": [
      "0.04793366193771362\n"
     ]
    }
   ],
   "source": [
    "\n",
    "## get luminance again? \n",
    "\n",
    "Igrey = rgb2grey(imgSeq[:,:,:,0])\n",
    "\n",
    "print(Igrey[323,101])"
   ]
  },
  {
   "cell_type": "code",
   "execution_count": 480,
   "metadata": {},
   "outputs": [
    {
     "name": "stdout",
     "output_type": "stream",
     "text": [
      "[0.05882353 0.06666667 0.07450981 0.05098039 0.04705882 0.04705882\n",
      " 0.04313726 0.04313726 0.03921569 0.02352941]\n"
     ]
    }
   ],
   "source": [
    "print(imgSeqExtended[323:333,101,0,0])"
   ]
  },
  {
   "cell_type": "code",
   "execution_count": 485,
   "metadata": {},
   "outputs": [
    {
     "name": "stdout",
     "output_type": "stream",
     "text": [
      "[0.99736667 0.9975039  0.9980434  0.9976121  0.99728125 0.99719733\n",
      " 0.99714106 0.9970536  0.99699515 0.99647576]\n"
     ]
    }
   ],
   "source": [
    "print(imgSeq[323:333,101,0,\n",
    "             3])"
   ]
  },
  {
   "cell_type": "markdown",
   "metadata": {},
   "source": [
    "Dont touch above (Note for seckin)\n"
   ]
  },
  {
   "cell_type": "code",
   "execution_count": 631,
   "metadata": {},
   "outputs": [
    {
     "name": "stdout",
     "output_type": "stream",
     "text": [
      "[3.52941193e-02 3.52941193e-02 3.52941193e-02 3.52941193e-02\n",
      " 3.52941193e-02 2.35294122e-02 7.84313772e-03 2.74509806e-02\n",
      " 3.52941193e-02 3.92156877e-02 4.31372561e-02 3.92156877e-02\n",
      " 1.96078438e-02 7.84313772e-03 7.84313772e-03 7.84313772e-03\n",
      " 7.84313772e-03 3.92156886e-03 7.84313772e-03 1.17647061e-02\n",
      " 1.56862754e-02 1.56862754e-02 3.13725509e-02 1.96078438e-02\n",
      " 7.84313772e-03 7.84313772e-03 7.84313772e-03 7.84313772e-03\n",
      " 2.66666669e-02 5.33333339e-02 6.11764736e-02 6.19607873e-02\n",
      " 3.52941193e-02 1.17647061e-02 7.84313772e-03 1.96078438e-02\n",
      " 5.88235296e-02 6.90196112e-02 5.80392160e-02 3.60784329e-02\n",
      " 5.49019612e-02 6.58823565e-02 5.41176476e-02 2.74509806e-02\n",
      " 6.43137284e-02 6.85274489e-02 1.24710960e-02 5.63723277e-03\n",
      " 5.42583084e-03 5.42681338e-03 5.44033293e-03 5.46934064e-03\n",
      " 5.25010051e-03 5.46040703e-03 5.48646832e-03 5.31147225e-03\n",
      " 5.32217352e-03 5.42371832e-03 5.13847275e-03 5.30087240e-03\n",
      " 5.19930450e-03 5.12174433e-03 5.12174433e-03 5.03706019e-03\n",
      " 4.84217890e-03 5.12174433e-03 4.91507379e-03 5.28256446e-03\n",
      " 4.96960282e-03 4.96324180e-03 5.00898380e-03 4.81530447e-03\n",
      " 4.90463730e-03 4.51587420e-03 4.78924317e-03 4.98723798e-03\n",
      " 4.63130316e-03 4.35842657e-03 4.20858348e-03 3.57087604e-03\n",
      " 3.14244046e-03 3.21137463e-03 3.27922292e-03 3.29887010e-03\n",
      " 2.77540875e-03 4.02623876e-03 4.92388392e-03 4.48460691e-03\n",
      " 4.51957444e-03 4.59911227e-03 4.75872401e-03 4.73596770e-03\n",
      " 4.32157395e-03 3.61676714e-03 2.26519040e-03 2.68699629e-03\n",
      " 3.75465639e-03 3.56666795e-03 3.71780377e-03 3.64569058e-03\n",
      " 3.67629253e-03 3.85667696e-03 3.79076838e-03 3.25923380e-03\n",
      " 2.58699460e-03 2.46534110e-03 9.52595077e-04 9.71122272e-04\n",
      " 9.08737257e-04 1.07890429e-03 1.14128931e-03 8.20198655e-04\n",
      " 8.54540407e-04 9.36780521e-04 7.73839792e-04 8.68420326e-04\n",
      " 8.47386406e-04 1.26399220e-03 7.64078414e-04 1.70202448e-04\n",
      " 1.33903837e-03 2.24405129e-03 2.30194237e-03 2.17715809e-03\n",
      " 2.14373022e-03 2.22330024e-03 2.22218249e-03 2.34251921e-03\n",
      " 2.11424595e-03 2.31642430e-03 2.17296411e-03 1.93524936e-03\n",
      " 2.09616502e-03 1.95647704e-03 1.77802381e-03 1.45033883e-03\n",
      " 4.96559628e-04 1.05043441e-03 1.95174802e-03 1.98988165e-03\n",
      " 1.22575475e-03 3.35201787e-04 2.85076388e-04 3.28588529e-04\n",
      " 2.85374692e-04 2.85374692e-04 3.51613658e-04 2.60779477e-04\n",
      " 4.01739057e-04 1.37727582e-03 2.22192684e-03 1.10648730e-03\n",
      " 1.93723231e-04 2.61047312e-04 1.07890429e-03 1.24789278e-03\n",
      " 1.36716024e-03 1.44507070e-03 1.95174802e-03 1.95174802e-03\n",
      " 2.04562910e-03 1.90984423e-03 2.16049459e-03 2.19651628e-03\n",
      " 2.04562910e-03 1.58369832e-03 9.54030955e-04 8.40377063e-04\n",
      " 1.05043441e-03 1.14165860e-03 1.28215593e-03 1.19817174e-03\n",
      " 1.22407199e-03 1.88481205e-03 1.79099820e-03 1.19699418e-03\n",
      " 1.07890429e-03 9.36780521e-04 1.13460916e-03 1.47019518e-03\n",
      " 1.40744747e-03 1.47214010e-03 2.49420516e-03 2.82418597e-03\n",
      " 2.76742913e-03 2.43527647e-03 2.31642430e-03 2.61636632e-03\n",
      " 2.59466637e-03 2.67574168e-03 2.48040319e-03 2.28198101e-03\n",
      " 2.05734740e-03 2.16363077e-03 2.20989063e-03 2.28198101e-03\n",
      " 2.10360726e-03 1.93514163e-03 2.08915367e-03 2.35220101e-03\n",
      " 2.05734740e-03 2.09225765e-03 1.63423424e-03 1.68634669e-03\n",
      " 1.87104156e-03 1.84524355e-03 1.70887725e-03 1.96017628e-03\n",
      " 1.66690811e-03 1.66522535e-03 1.80519272e-03 1.57955845e-03\n",
      " 2.84165544e-04 0.00000000e+00 0.00000000e+00 0.00000000e+00\n",
      " 0.00000000e+00 4.37167706e-05 2.57490676e-04 1.78614235e-04\n",
      " 1.10254041e-04 1.10254041e-04 1.10254041e-04 4.37167706e-05\n",
      " 1.78614235e-04 1.78614235e-04 1.10254041e-04 1.72348367e-04\n",
      " 4.79332480e-04 3.92156886e-03 3.92156886e-03 3.92156886e-03\n",
      " 7.84313772e-03 3.92156886e-03 3.92156886e-03 3.92156886e-03\n",
      " 3.92156886e-03 3.92156886e-03 3.92156886e-03 0.00000000e+00\n",
      " 3.53734886e-04 2.28864676e-03 1.61583007e-03 5.63934329e-04\n",
      " 6.02081956e-05 4.37167706e-05 1.10254041e-04 2.40999251e-04\n",
      " 0.00000000e+00 2.78865540e-04 1.60655344e-03 5.01549314e-04\n",
      " 3.06371695e-04 5.01549314e-04 1.89149219e-03 3.23625361e-03\n",
      " 3.06228558e-03 3.89988702e-03 3.27020227e-03 2.55292763e-03\n",
      " 2.97151152e-03 2.81619183e-03 2.08369549e-03 2.32226914e-03\n",
      " 3.92156886e-03 3.92156886e-03 3.92156886e-03 3.92156886e-03\n",
      " 3.92156886e-03 7.84313772e-03 7.84313772e-03 3.92156886e-03\n",
      " 3.92156886e-03 3.92156886e-03 3.92156886e-03 3.92156886e-03\n",
      " 3.92156886e-03 7.84313772e-03 7.84313772e-03 3.92156886e-03\n",
      " 7.84313772e-03 3.60930627e-03 4.13840250e-03 4.49270653e-03\n",
      " 4.22954168e-03 4.28441009e-03 3.65483793e-03 4.32824767e-03\n",
      " 3.01162330e-03 3.64961834e-03 3.76181668e-03 3.61244334e-03\n",
      " 2.37255413e-03 1.56958143e-03 1.59762469e-03 1.74035536e-04\n",
      " 1.27740116e-03 4.92382757e-03 2.85723517e-03 2.67500305e-03\n",
      " 2.01434719e-03 1.77264370e-03 3.82318031e-03 4.41271644e-03\n",
      " 4.30190503e-03 7.50525538e-03 4.20840620e-03 3.18761216e-03\n",
      " 4.10076920e-03 5.93413291e-03 6.46520825e-03 6.48794286e-03\n",
      " 6.39953790e-03 6.10272838e-03 6.58756876e-03 6.90385392e-03\n",
      " 6.46488173e-03 2.56518205e-03 0.00000000e+00 4.37167706e-05\n",
      " 0.00000000e+00 1.10254041e-04 0.00000000e+00 0.00000000e+00\n",
      " 0.00000000e+00 1.10254041e-04 4.37167706e-05 4.37167706e-05\n",
      " 0.00000000e+00 4.37167706e-05 0.00000000e+00 0.00000000e+00\n",
      " 4.37167706e-05 0.00000000e+00 0.00000000e+00 0.00000000e+00\n",
      " 0.00000000e+00 0.00000000e+00 0.00000000e+00 0.00000000e+00\n",
      " 0.00000000e+00 0.00000000e+00 0.00000000e+00 0.00000000e+00\n",
      " 0.00000000e+00 1.48120330e-04 2.83804606e-04 1.05604797e-03\n",
      " 2.27055247e-03 3.41075831e-03 5.15095461e-03 6.61382470e-03\n",
      " 5.39866360e-03 1.08381587e-03 4.37167706e-05 0.00000000e+00\n",
      " 1.60527090e-03 2.91139754e-03 9.53987474e-04 0.00000000e+00\n",
      " 0.00000000e+00 0.00000000e+00 1.10254041e-04 1.95105661e-04\n",
      " 1.78614235e-04 2.86602152e-04 8.01974506e-04 1.30408707e-03\n",
      " 1.23349673e-03 8.80828081e-04 5.99672357e-03 5.54657374e-03\n",
      " 2.74313982e-03 7.23363198e-03 1.17647061e-02 7.84313772e-03\n",
      " 3.92156886e-03 1.27740116e-03 1.17647061e-02 1.17647061e-02\n",
      " 1.17647061e-02 1.17647061e-02 1.17647061e-02 7.06385328e-03]\n"
     ]
    }
   ],
   "source": [
    "print(Igrey[:,0])"
   ]
  },
  {
   "cell_type": "code",
   "execution_count": 651,
   "metadata": {},
   "outputs": [],
   "source": [
    "def symmetric_pad(image, pad_size):\n",
    "    \n",
    "    [row,column] = image.shape\n",
    "\n",
    "    padImg = np.zeros((row+pad_size*2, column+pad_size*2))\n",
    "    #padImg[pad_size-1:row-1,pad_size-1:column-1] = image \n",
    "    padImg[pad_size:row + pad_size, pad_size:column + pad_size] = image\n",
    "    for i in range(pad_size): \n",
    "        padImg[pad_size-i-1,pad_size:pad_size+column] = image[i,:]\n",
    "        padImg[pad_size+row+i,pad_size:pad_size+column] = image[row-i-1,:]\n",
    "    \n",
    "    for i in range(pad_size):\n",
    "        padImg[:,pad_size-i-1] = padImg[:,pad_size+i]\n",
    "        padImg[:,pad_size+column+i] = padImg[:,column+pad_size-i-1]\n",
    "    \n",
    "    \n",
    "    return padImg\n"
   ]
  },
  {
   "cell_type": "code",
   "execution_count": 656,
   "metadata": {},
   "outputs": [
    {
     "name": "stdout",
     "output_type": "stream",
     "text": [
      "[[ 1  6 11 16 21 26]\n",
      " [ 2  7 12 17 22 27]\n",
      " [ 3  8 13 18 23 28]\n",
      " [ 4  9 14 19 24 29]\n",
      " [ 5 10 15 20 25 30]]\n"
     ]
    }
   ],
   "source": [
    "A = np.arange(1, 31).reshape(6, 5)\n",
    "At = A.T\n",
    "print(At)"
   ]
  },
  {
   "cell_type": "code",
   "execution_count": 657,
   "metadata": {},
   "outputs": [],
   "source": [
    "B = symmetric_pad(At,3)"
   ]
  },
  {
   "cell_type": "code",
   "execution_count": 658,
   "metadata": {},
   "outputs": [
    {
     "name": "stdout",
     "output_type": "stream",
     "text": [
      "[[13.  8.  3.  3.  8. 13. 18. 23. 28. 28. 23. 18.]\n",
      " [12.  7.  2.  2.  7. 12. 17. 22. 27. 27. 22. 17.]\n",
      " [11.  6.  1.  1.  6. 11. 16. 21. 26. 26. 21. 16.]\n",
      " [11.  6.  1.  1.  6. 11. 16. 21. 26. 26. 21. 16.]\n",
      " [12.  7.  2.  2.  7. 12. 17. 22. 27. 27. 22. 17.]\n",
      " [13.  8.  3.  3.  8. 13. 18. 23. 28. 28. 23. 18.]\n",
      " [14.  9.  4.  4.  9. 14. 19. 24. 29. 29. 24. 19.]\n",
      " [15. 10.  5.  5. 10. 15. 20. 25. 30. 30. 25. 20.]\n",
      " [15. 10.  5.  5. 10. 15. 20. 25. 30. 30. 25. 20.]\n",
      " [14.  9.  4.  4.  9. 14. 19. 24. 29. 29. 24. 19.]\n",
      " [13.  8.  3.  3.  8. 13. 18. 23. 28. 28. 23. 18.]]\n"
     ]
    }
   ],
   "source": [
    "print(B)"
   ]
  },
  {
   "cell_type": "code",
   "execution_count": 634,
   "metadata": {},
   "outputs": [
    {
     "ename": "AttributeError",
     "evalue": "type object 'type' has no attribute 'Igrey'",
     "output_type": "error",
     "traceback": [
      "\u001b[0;31m---------------------------------------------------------------------------\u001b[0m",
      "\u001b[0;31mAttributeError\u001b[0m                            Traceback (most recent call last)",
      "Cell \u001b[0;32mIn[634], line 1\u001b[0m\n\u001b[0;32m----> 1\u001b[0m \u001b[38;5;28mprint\u001b[39m(\u001b[38;5;28;43mtype\u001b[39;49m\u001b[38;5;241;43m.\u001b[39;49m\u001b[43mIgrey\u001b[49m)\n",
      "\u001b[0;31mAttributeError\u001b[0m: type object 'type' has no attribute 'Igrey'"
     ]
    }
   ],
   "source": [
    "print(type.Igrey)"
   ]
  },
  {
   "cell_type": "code",
   "execution_count": null,
   "metadata": {},
   "outputs": [],
   "source": []
  }
 ],
 "metadata": {
  "kernelspec": {
   "display_name": "Python 3",
   "language": "python",
   "name": "python3"
  },
  "language_info": {
   "codemirror_mode": {
    "name": "ipython",
    "version": 3
   },
   "file_extension": ".py",
   "mimetype": "text/x-python",
   "name": "python",
   "nbconvert_exporter": "python",
   "pygments_lexer": "ipython3",
   "version": "3.10.12"
  }
 },
 "nbformat": 4,
 "nbformat_minor": 2
}

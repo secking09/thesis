{
 "cells": [
  {
   "cell_type": "code",
   "execution_count": 367,
   "metadata": {},
   "outputs": [],
   "source": [
    "import numpy as np  \n",
    "import os \n",
    "import cv2 \n",
    "from scipy.ndimage import convolve\n",
    "from skimage.exposure import match_histograms \n",
    "from skimage.morphology import remove_small_objects, binary_opening"
   ]
  },
  {
   "cell_type": "markdown",
   "metadata": {},
   "source": [
    "Section below for uploading the images on the system. "
   ]
  },
  {
   "cell_type": "code",
   "execution_count": 368,
   "metadata": {},
   "outputs": [
    {
     "name": "stdout",
     "output_type": "stream",
     "text": [
      "(384, 512, 3, 4)\n"
     ]
    }
   ],
   "source": [
    "dataset_path = '/home/sg24duk/Desktop/datapython/'\n",
    "\n",
    "images = []\n",
    "labels = []\n",
    "\n",
    "\n",
    "finallypath = sorted((os.listdir(dataset_path)))\n",
    "i = 0\n",
    "for filename in finallypath:\n",
    "    \n",
    "    if filename.endswith(('.png', '.jpg', '.jpeg', '.gif', '.bmp')): \n",
    "        \n",
    "        img_path = os.path.join(dataset_path,filename)\n",
    "        img = cv2.imread(img_path)\n",
    "        img = cv2.cvtColor(img,cv2.COLOR_BGR2RGB) ## Fix for order of Color channels\n",
    "        images.append(img)\n",
    "    \n",
    "\n",
    "# Convert to numpy arrays\n",
    "images = np.array(images)\n",
    "images_algo = np.transpose(images, (1,2,3,0))\n",
    "\n",
    "print(images_algo.shape)"
   ]
  },
  {
   "cell_type": "markdown",
   "metadata": {},
   "source": [
    "Parameters Area "
   ]
  },
  {
   "cell_type": "code",
   "execution_count": 369,
   "metadata": {},
   "outputs": [],
   "source": [
    "[s1,s2,s3,s4] = (images_algo.shape) # size of the images\n",
    "\n",
    "refIdx = 2 ### State the REF pic\n",
    "\n",
    "r  = 12;                    # slide size of the guided filter\n",
    "alpha = 1.1;                # the parameters for the last fusion\n",
    "SigD = 0.12                 # the Gauss parameters in the weigh map of the detail layer fusion\n",
    "p = 4                       # ?\n",
    "gSig = 0.2                  # \n",
    "lSig = 0.5                  # \n",
    "wSize = 21                  # Square Kernel length\n",
    "stepSize = 2                \n",
    "exposureThres = 0.01        ##\n",
    "consistencyThres = 0.0987 ## Pay attention to here, I did this because there are very small discrepancies between python histogram and MATLAB\n",
    "structureThres = 0.90\n",
    "overexposure_pa = 0.5\n",
    "C = 0.03 ** 2 / 2          # inherited from SSIM\n",
    "epsil = 0.25               # (0.5*1)^2;\n",
    "np_i = s1*s2            \n",
    "H = np.ones((7,7))            # small average filter is enough\n",
    "H = H / H.sum()               # Normalized it. \n",
    "Fake_Ref = np.zeros((s1, s2, s3))\n",
    "L = np.zeros((s1, s2, s4))\n",
    "gMu = np.zeros((s1, s2, s4))      # global mean intensity\n",
    "BaseMu = np.zeros((s1, s2, s4))   # local mean intensity\n",
    "\n",
    "numExd = 2*s4 - 1\n",
    "\n",
    "xIdxMax = s1 - wSize + 1\n",
    "yIdxMax = s2 - wSize + 1\n",
    "\n",
    "window = np.ones((wSize, wSize))\n",
    "window /=np.sum(window)\n",
    "window3D = np.repeat(window[:, :, np.newaxis], 3, axis=2)\n",
    "\n",
    "\n",
    "lMu_c = np.zeros((xIdxMax, yIdxMax, numExd))  # Local mean intensity\n",
    "lMuSq_c = np.zeros((xIdxMax, yIdxMax, numExd))  # Local mean intensity squared\n",
    "sigmaSq = np.zeros((xIdxMax, yIdxMax, numExd))  # Signal strength from variance\n"
   ]
  },
  {
   "cell_type": "markdown",
   "metadata": {},
   "source": [
    "Function Define Area "
   ]
  },
  {
   "cell_type": "code",
   "execution_count": 370,
   "metadata": {},
   "outputs": [],
   "source": [
    "def im2double(image):\n",
    "    return image.astype(np.float32) / 255.0   ## Images are converted to double!\n",
    "\n",
    "def convolve2D(image, kernel, padding=0, strides=1): ## To implement 2-D Convolution operation. \n",
    "\n",
    "    # Cross Correlation\n",
    "    kernel = np.flipud(np.fliplr(kernel))\n",
    "\n",
    "    # Gather Shapes of Kernel + Image + Padding\n",
    "    xKernShape = kernel.shape[0]\n",
    "    yKernShape = kernel.shape[1]\n",
    "    xImgShape = image.shape[0]\n",
    "    yImgShape = image.shape[1]\n",
    "\n",
    "    # Shape of Output Convolution\n",
    "    xOutput = int(((xImgShape - xKernShape + 2 * padding) / strides) + 1)\n",
    "    yOutput = int(((yImgShape - yKernShape + 2 * padding) / strides) + 1)\n",
    "    output = np.zeros((xOutput, yOutput))\n",
    "\n",
    "    # Apply Equal Padding to All Sides\n",
    "    if padding != 0:\n",
    "        imagePadded = np.zeros((image.shape[0] + padding*2, image.shape[1] + padding*2))\n",
    "        imagePadded[int(padding):int(-1 * padding), int(padding):int(-1 * padding)] = image\n",
    "        print(imagePadded)\n",
    "    else:\n",
    "        imagePadded = image\n",
    "\n",
    "    # Iterate through image\n",
    "    for y in range(image.shape[1]):\n",
    "        # Exit Convolution\n",
    "        if y > image.shape[1] - yKernShape:\n",
    "            break\n",
    "        # Only Convolve if y has gone down by the specified Strides\n",
    "        if y % strides == 0:\n",
    "            for x in range(image.shape[0]):\n",
    "                # Go to next row once kernel is out of bounds\n",
    "                if x > image.shape[0] - xKernShape:\n",
    "                    break\n",
    "                try:\n",
    "                    # Only Convolve if x has moved by the specified Strides\n",
    "                    if x % strides == 0:\n",
    "                        output[x, y] = (kernel * imagePadded[x: x + xKernShape, y: y + yKernShape]).sum()\n",
    "                except:\n",
    "                    break\n",
    "\n",
    "    return output\n",
    "\n",
    "def imfConsistency(mu, refIdx, consistencyThres): ## Imitation of imfConsistency.m \n",
    "    # Get the dimensions of the input 3D array `mu`\n",
    "    s1, s2, s3 = mu.shape\n",
    "    \n",
    "    # Initialize cMap with zeros and set the reference slice to ones\n",
    "    cMap = np.zeros((s1, s2, s3))\n",
    "    cMap[:, :, refIdx] = np.ones((s1, s2))\n",
    "    \n",
    "    # Reference slice of `mu`\n",
    "    refMu = mu[:, :, refIdx]\n",
    "    \n",
    "    # Histogram matching and comparison for each slice except the reference\n",
    "    for i in range(s3):\n",
    "        if i != refIdx:\n",
    "            # Histogram matching\n",
    "            #mu_hist, bin_edges = np.histogram(lMu_c[:,:,0], bins=256, range=(0,1))\n",
    "            #ref_hist, _ = np.histogram(lMu_c[:,:,2], bins=256, range=(0,1))\n",
    "            cMu = match_histograms(lMu_c[:,:,i], lMu_c[:,:,refIdx], channel_axis=None)\n",
    "            # Calculate absolute difference and update cMap based on threshold\n",
    "            diff = np.abs(cMu - refMu)\n",
    "            cMap[:, :, i] = diff <= consistencyThres  # Binary map based on consistency threshold\n",
    "    \n",
    "    return cMap\n",
    "\n",
    "def rgb2grey(X): ## This is the custom one. \n",
    "    orig_shape = X.shape\n",
    "    threeD = (X.ndim == 3)\n",
    "\n",
    "    # Define the transformation coefficients (for red, green, blue channels respectively)\n",
    "    coef = np.array([0.2, 0.6, 0.2])\n",
    "\n",
    "    if threeD:\n",
    "        # RGB case\n",
    "        if X.dtype in [np.float32, np.float64]:\n",
    "            # Reshape to a 2D array where each row is a pixel, with 3 columns (R, G, B)\n",
    "            X_reshaped = X.reshape(-1, 3)\n",
    "            # Apply grayscale transformation\n",
    "            I = np.dot(X_reshaped, coef)\n",
    "            # Clip to ensure values are within [0, 1] range for float types\n",
    "            I = np.clip(I, 0, 1)\n",
    "            # Reshape back to the original 2D dimensions\n",
    "            I = I.reshape(orig_shape[0], orig_shape[1])\n",
    "        \n",
    "        else:\n",
    "            # For uint8 or uint16 types, convert by scaling appropriately\n",
    "            I = np.dot(X, coef).astype(X.dtype)\n",
    "    else:\n",
    "        # For 2D input (already grayscale), repeat channels for RGB equivalent output\n",
    "        I = np.dot(X, coef)\n",
    "        I = np.clip(I, 0, 1)\n",
    "        I = np.stack([I, I, I], axis=-1)\n",
    "    \n",
    "    return I\n",
    "\n",
    "def rgb2gray(image): ## that's from MATLAB\n",
    "    \"\"\"\n",
    "    Convert an RGB image to grayscale.\n",
    "    \n",
    "    Parameters:\n",
    "    - image: A 3D NumPy array (H, W, 3) representing an RGB image.\n",
    "\n",
    "    Returns:\n",
    "    - A 2D NumPy array (H, W) representing the grayscale image.\n",
    "    \"\"\"\n",
    "    # Ensure the input image is a 3D array\n",
    "    if image.ndim != 3 or image.shape[2] != 3:\n",
    "        raise ValueError(\"Input image must be a 3D array with 3 channels (RGB).\")\n",
    "    \n",
    "    # Define the coefficients for RGB to grayscale conversion\n",
    "    coef = np.array([0.2989, 0.5870, 0.1140])\n",
    "    \n",
    "    # Convert to grayscale using dot product\n",
    "    gray_image = np.dot(image[..., :3], coef)\n",
    "    \n",
    "    # Clip values to [0, 1] if image is normalized, or [0, 255] if uint8\n",
    "    if gray_image.max() > 1:\n",
    "        gray_image = (np.clip(gray_image, 0, 255).astype(np.uint8)) / 255\n",
    "    else:\n",
    "        gray_image = np.clip(gray_image, 0, 1)\n",
    "    \n",
    "    return gray_image\n",
    "\n",
    "def imfConsistency(mu, refIdx, consistencyThres):\n",
    "    # Get the dimensions of the input 3D array `mu`\n",
    "    s1, s2, s3 = mu.shape\n",
    "    \n",
    "    # Initialize cMap with zeros and set the reference slice to ones\n",
    "    cMap = np.zeros((s1, s2, s3))\n",
    "    cMap[:, :, refIdx] = np.ones((s1, s2))\n",
    "    \n",
    "    # Reference slice of `mu`\n",
    "    refMu = mu[:, :, refIdx]\n",
    "    \n",
    "    # Histogram matching and comparison for each slice except the reference\n",
    "    for i in range(s3):\n",
    "        if i != refIdx:\n",
    "            # Histogram matching\n",
    "            cMu = match_histograms(mu[:, :, i], refMu, channel_axis=None)\n",
    "            \n",
    "            # Calculate absolute difference and update cMap based on threshold\n",
    "            diff = np.abs(cMu - refMu)\n",
    "            cMap[:, :, i] = diff <= consistencyThres  # Binary map based on consistency threshold\n",
    "    \n",
    "    return cMap\n",
    "\n",
    "\n",
    "\n",
    "\n"
   ]
  },
  {
   "cell_type": "markdown",
   "metadata": {},
   "source": []
  },
  {
   "cell_type": "code",
   "execution_count": 371,
   "metadata": {},
   "outputs": [],
   "source": [
    "### Convert Every image to double \n",
    "\n",
    "imgSeqExtended = np.zeros((s1,s2,s3,numExd))\n",
    "imgSeq = np.zeros((s1,s2,s3,s4))\n",
    "imgSeqExtended[:,:,:,:s4] = im2double(images_algo)\n",
    "## Convert to double precision and normalize\n",
    "#normalized_images = images_algo.astype(np.float64) / 255.0\n",
    "#\n",
    "## Round only to 4th decimal place persistently\n",
    "#rounded_images = np.floor(normalized_images * 10000 + 0.5) / 10000\n",
    "#\n",
    "## Assign to arrays\n",
    "#imgSeqExtended[:, :, :, :s4] = rounded_images\n",
    "#imgSeq = im2double(images_algo)\n",
    "\n",
    "### Initialize temporary values. \n",
    "temp = np.zeros((s1,s2,s3))\n",
    "sq_temp = np.zeros((s1,s2,s3))\n",
    "## calculate local mean intensity (also might be called luminance) and Squared value of it to calculate sigma squared eventually. \n",
    "for i in range(numExd):\n",
    "    temp = imgSeqExtended[:,:,:,i]\n",
    "    sq_temp = temp*temp\n",
    "    temp_avg    = np.mean(temp,axis=2)\n",
    "    sq_temp_avg = np.mean(sq_temp,axis=2)\n",
    "    lMu_c[:,:,i] = convolve2D(temp_avg,window,0,1)      ##Convolution with averaging kernel \n",
    "    lMuSq_c[:,:,i]= lMu_c[:,:,i] * lMu_c[:,:,i]\n",
    "    sigmaSq[:,:,i] = convolve2D(sq_temp_avg,window,0,1) - lMuSq_c[:,:,i] ## Calculate the variance \n",
    "\n",
    "\n",
    " "
   ]
  },
  {
   "cell_type": "code",
   "execution_count": 372,
   "metadata": {},
   "outputs": [
    {
     "name": "stdout",
     "output_type": "stream",
     "text": [
      "0.00909400840507412\n"
     ]
    }
   ],
   "source": [
    "import numpy as np\n",
    "from scipy.signal import convolve2d\n",
    "\n",
    "temp = imgSeqExtended[:,:,:,0]\n",
    "\n",
    "sq_temp = temp*temp\n",
    "temp_avg    = np.mean(temp,axis=2)\n",
    "sq_temp_avg = np.mean(sq_temp,axis=2)\n",
    "\n",
    "yarrak = convolve2d(temp_avg,window,mode='valid')\n",
    "print(yarrak[123,124])"
   ]
  },
  {
   "cell_type": "code",
   "execution_count": 373,
   "metadata": {},
   "outputs": [
    {
     "name": "stdout",
     "output_type": "stream",
     "text": [
      "[0.03529412 0.03529412 0.03529412 0.03529412 0.03529412 0.02352941\n",
      " 0.00784314 0.02745098 0.03529412 0.03921569 0.04313726 0.03921569\n",
      " 0.01960784 0.00784314 0.00784314 0.00784314 0.00784314 0.00392157\n",
      " 0.00784314 0.01176471]\n"
     ]
    }
   ],
   "source": [
    "print(imgSeqExtended[0:20,0,0,0])   ## Not sure if we can read correctly. "
   ]
  },
  {
   "cell_type": "code",
   "execution_count": 374,
   "metadata": {},
   "outputs": [
    {
     "name": "stdout",
     "output_type": "stream",
     "text": [
      "0.6619151480726825\n"
     ]
    }
   ],
   "source": [
    "print(lMu_c[123,124,3\n",
    "            ])"
   ]
  },
  {
   "cell_type": "code",
   "execution_count": 375,
   "metadata": {},
   "outputs": [],
   "source": [
    "##This part takes So much time so leave it seperated \n",
    "sigma = np.sqrt(np.maximum(sigmaSq,0)) ## Calculate the variance\n",
    "mean = np.zeros((s1,s2)) ## get the average of color channel for easier version of 2-D convolution\n",
    "sMap_c = np.zeros((xIdxMax,yIdxMax,s4,s4)) ## Structural consistency initializiation\n",
    "cross = np.zeros((s1,s2,s3))\n",
    "\n",
    "for i in range(s4):\n",
    "    for j in range(i+1,s4):                     ##Calculation comes from SSIM Formula (third term) but here it is implemented with a bit different technique\n",
    "        crossMu = lMu_c[:,:,i] * lMu_c[:,:,j]\n",
    "        cross = imgSeqExtended[:,:,:,i] * imgSeqExtended[:,:,:,j]\n",
    "        mean = np.mean(cross, axis=2)\n",
    "        crossSigma = convolve2D(mean,window,0,1)  - crossMu\n",
    "        sMap_c [:,:,i,j] = (crossSigma + C) / (sigma[:,:,i] * sigma[:,:,j]+C)\n",
    "\n"
   ]
  },
  {
   "cell_type": "code",
   "execution_count": 376,
   "metadata": {},
   "outputs": [],
   "source": [
    "cross = np.zeros((s1,s2,s3))\n",
    "mean = np.zeros((s1,s2))\n",
    "average = np.mean(imgSeqExtended,axis=2)\n",
    "\n",
    "\n",
    "cross = imgSeqExtended[:,:,:,0] * imgSeqExtended[:,:,:,1]\n",
    "mean = np.mean(cross, axis=2)\n",
    "yarrak = average[:,:,i]*average[:,:,j]"
   ]
  },
  {
   "cell_type": "code",
   "execution_count": 377,
   "metadata": {},
   "outputs": [
    {
     "name": "stdout",
     "output_type": "stream",
     "text": [
      "0.9073052339410971\n"
     ]
    }
   ],
   "source": [
    "print(sMap_c[9,288,0,1])"
   ]
  },
  {
   "cell_type": "code",
   "execution_count": 378,
   "metadata": {},
   "outputs": [],
   "source": [
    "\n",
    "sMap_c_backup = sMap_c  ## it takes so much time to produce sMap_c so just a measure to override it \n",
    "\n",
    "## UPDATE REFIDX \n",
    "refidx = 2\n",
    "\n",
    "squeezed_map = np.squeeze(sMap_c_backup[:, :, refIdx, :])   ## result of cross comparasion is reordered by refIdx\n",
    "sRefMap = squeezed_map + sMap_c_backup[:, :, :, refIdx]    \n",
    "sRefMap[:, :, refIdx] = np.ones((xIdxMax, yIdxMax)) ## And filled with 1\n",
    "sRefMap[sRefMap <= structureThres] = 0  ## compare and binarize.\n",
    "sRefMap[sRefMap > structureThres] = 1\n",
    "muIdxMap = (lMu_c[:, :, refIdx] < exposureThres) | (lMu_c[:, :, refIdx] > 1 - exposureThres)\n",
    "muIdxMap = np.tile(muIdxMap[:, :, np.newaxis], (1, 1, s4))\n",
    "sRefMap[muIdxMap] = 1"
   ]
  },
  {
   "cell_type": "markdown",
   "metadata": {},
   "source": [
    "UP TO NOW, we are aligning with MATLAB (tested)"
   ]
  },
  {
   "cell_type": "code",
   "execution_count": 379,
   "metadata": {},
   "outputs": [],
   "source": [
    "### MATHEMATHICAL MORPHOLOGY ##### \n",
    "\n",
    "\n",
    "### Create disk-shaped structuring element (like strel('disk', wSize) in MATLAB)\n",
    "##se = cv2.getStructuringElement(cv2.MORPH_ELLIPSE, (wSize, wSize))\n",
    "##\n",
    "### Perform the opening operation (erosion followed by dilation) for each slice\n",
    "##for k in range(s4):\n",
    "##    sRefMap[:, :, k] = cv2.morphologyEx(sRefMap[:, :, k].astype(np.float32), cv2.MORPH_OPEN, se)\n",
    "##\n",
    "### Clear the variable (in Python, not necessary, but to mimic memory cleaning)\n",
    "##del sRefMap\n",
    "\n",
    "\n"
   ]
  },
  {
   "cell_type": "markdown",
   "metadata": {},
   "source": [
    "IMF TESTING STARTS HERE "
   ]
  },
  {
   "cell_type": "code",
   "execution_count": 380,
   "metadata": {},
   "outputs": [],
   "source": [
    "#### IMF TESTING #####\n",
    "mu_hist, bin_edges = np.histogram(lMu_c[:,:,0], bins=256, range=(0,1))\n",
    "ref_hist, _ = np.histogram(lMu_c[:,:,2], bins=256, range=(0,1))\n",
    "cMu = match_histograms(lMu_c[:,:,0], lMu_c[:,:,2], channel_axis=None)"
   ]
  },
  {
   "cell_type": "code",
   "execution_count": 212,
   "metadata": {},
   "outputs": [],
   "source": []
  },
  {
   "cell_type": "code",
   "execution_count": 381,
   "metadata": {},
   "outputs": [
    {
     "data": {
      "text/plain": [
       "array([0.04957835, 0.04640671, 0.04259482, 0.03839758, 0.03412624,\n",
       "       0.03025803, 0.02674848, 0.0233901 , 0.02015621, 0.01701125])"
      ]
     },
     "execution_count": 381,
     "metadata": {},
     "output_type": "execute_result"
    }
   ],
   "source": [
    "lMu_c[120:130,300,0]"
   ]
  },
  {
   "cell_type": "code",
   "execution_count": 382,
   "metadata": {},
   "outputs": [],
   "source": [
    "cMu = match_histograms(lMu_c[:,:,1], lMu_c[:,:,refIdx], channel_axis=None)"
   ]
  },
  {
   "cell_type": "code",
   "execution_count": null,
   "metadata": {},
   "outputs": [],
   "source": []
  },
  {
   "cell_type": "code",
   "execution_count": 383,
   "metadata": {},
   "outputs": [
    {
     "name": "stdout",
     "output_type": "stream",
     "text": [
      "[0.51050644 0.51234717 0.51383517 0.519141   0.52634388 0.53739719\n",
      " 0.55164882 0.57069051 0.58755355 0.60210455]\n"
     ]
    }
   ],
   "source": [
    "print(cMu[190,50:60])"
   ]
  },
  {
   "cell_type": "code",
   "execution_count": 384,
   "metadata": {},
   "outputs": [
    {
     "name": "stdout",
     "output_type": "stream",
     "text": [
      "[0.09012198 0.09268893 0.09473419 0.09684467 0.09744343 0.09643265\n",
      " 0.09441407 0.09609177 0.09750271 0.0995124  0.10330948]\n"
     ]
    }
   ],
   "source": [
    "diff = np.abs(cMu -lMu_c[:,:,refIdx] )\n",
    "print(diff[190,50:61])"
   ]
  },
  {
   "cell_type": "code",
   "execution_count": 385,
   "metadata": {},
   "outputs": [],
   "source": [
    "\n",
    "iRefMap = imfConsistency(lMu_c[:,:,:s4], refIdx, consistencyThres)  ##match_histograms function is creating a problem resulting in different results with matlab.\n",
    "\n",
    "cMap = sRefMap * iRefMap\n",
    "cMap = np.clip(cMap, 0, 1)\n",
    "RefMatrix = np.ones_like(cMap)\n",
    "\n"
   ]
  },
  {
   "cell_type": "code",
   "execution_count": 386,
   "metadata": {},
   "outputs": [
    {
     "name": "stdout",
     "output_type": "stream",
     "text": [
      "[1. 1. 1. 1. 1. 1. 1. 1. 1. 1. 1. 1. 1. 1. 1. 1. 1. 1. 1. 1. 1. 1. 1. 1.\n",
      " 1. 1. 1. 1. 1. 1. 1. 1. 1. 1. 1. 1. 1. 1. 1. 1. 1.]\n"
     ]
    }
   ],
   "source": [
    "print(iRefMap[300,20:61,3])"
   ]
  },
  {
   "cell_type": "markdown",
   "metadata": {},
   "source": [
    "IMF TESTS END HERE!"
   ]
  },
  {
   "cell_type": "code",
   "execution_count": 387,
   "metadata": {},
   "outputs": [],
   "source": [
    "t_ref = 0.01\n",
    "Ig1 = rgb2gray(imgSeqExtended[:, :, :, refIdx])\n",
    "Ig1[Ig1 > (1 - (t_ref * 2))] = 1\n",
    "Ig1[Ig1 < (t_ref * 2)] = 1\n",
    "Ig1[Ig1 < 1] = 0"
   ]
  },
  {
   "cell_type": "code",
   "execution_count": 388,
   "metadata": {},
   "outputs": [],
   "source": [
    "m1, m2, m3 = cMap.shape\n",
    "cMap_seq = np.zeros((m1 + wSize - 1, m2 + wSize - 1, m3))\n",
    "\n",
    "for icmp in range(m3):\n",
    "    # Resize the current cMap slice\n",
    "    resized_cMap = cv2.resize(cMap[:, :, icmp], (m2 + wSize - 1, m1 + wSize - 1))\n",
    "    # Add Ig1 to the resized map\n",
    "    cMap_seq[:, :, icmp] = resized_cMap + Ig1\n",
    "# Set all positive values to 1\n",
    "cMap_seq[cMap_seq > 0] = 1\n",
    "# Set all negative values to 0\n",
    "cMap_seq[cMap_seq < 0] = 0\n",
    "\n"
   ]
  },
  {
   "cell_type": "code",
   "execution_count": 389,
   "metadata": {},
   "outputs": [
    {
     "name": "stdout",
     "output_type": "stream",
     "text": [
      "[0. 0. 0. 0. 0. 0. 0. 0. 0. 0. 0. 0. 0. 0. 0. 0. 0. 0. 0. 1. 0. 1. 1. 1.\n",
      " 0. 0. 0. 0. 0. 0. 0.]\n"
     ]
    }
   ],
   "source": [
    "print(cMap[59,159:190,0])"
   ]
  },
  {
   "cell_type": "code",
   "execution_count": 390,
   "metadata": {},
   "outputs": [
    {
     "name": "stdout",
     "output_type": "stream",
     "text": [
      "[0. 0. 0. 0. 0. 0. 0. 0. 0. 0. 0. 0. 0. 0. 0. 0. 0. 0. 0. 1. 0. 1. 1. 1.\n",
      " 0. 0. 0. 0. 0. 0. 0.]\n"
     ]
    }
   ],
   "source": [
    "print(sRefMap[59,159:190,0])"
   ]
  },
  {
   "cell_type": "code",
   "execution_count": 391,
   "metadata": {},
   "outputs": [
    {
     "name": "stdout",
     "output_type": "stream",
     "text": [
      "[1. 1. 1. 1. 1. 1. 1. 1. 1. 1. 1. 1. 1. 1. 1. 1. 1. 1. 1. 1. 1. 1. 1. 1.\n",
      " 1. 1. 1. 1. 1. 1. 1.]\n"
     ]
    }
   ],
   "source": [
    "print(iRefMap[59,159:190,0])"
   ]
  },
  {
   "cell_type": "code",
   "execution_count": 392,
   "metadata": {},
   "outputs": [],
   "source": [
    "######################## MORPHOLOGY AGAIN BRO ########################\n",
    "m1,m2,m3 = cMap_seq.shape\n",
    "ratio = 0.001\n",
    "area = int(np.ceil(ratio * m1 * m2))\n",
    "for i in range(m3):\n",
    "        # Remove small objects based on the calculated area\n",
    "        tempMap1 = remove_small_objects(cMap_seq[:, :, i].astype(bool), min_size=area, connectivity=2)\n",
    "\n",
    "        # Invert the binary image\n",
    "        tempMap2 = ~tempMap1\n",
    "\n",
    "        # Remove small objects from the inverted image\n",
    "        tempMap3 = remove_small_objects(tempMap2.astype(bool), min_size=area, connectivity=2)\n",
    "\n",
    "        # Finalize the cleaned mask\n",
    "        cMap_seq[:, :, i] = ~tempMap3  # Invert back to original binary format\n",
    "        \n",
    "s1, s2, s3 = cMap_seq.shape  # Get the shape of the input array\n",
    "cMap_seq_3D = np.ones((s1, s2, 3, s4), dtype=cMap_seq.dtype)  # Initialize 4D array with ones\n",
    "for i in range(3):\n",
    "    cMap_seq_3D[:, :, i, :] = cMap_seq"
   ]
  },
  {
   "cell_type": "code",
   "execution_count": 393,
   "metadata": {},
   "outputs": [
    {
     "name": "stdout",
     "output_type": "stream",
     "text": [
      "4\n",
      "5\n",
      "6\n"
     ]
    }
   ],
   "source": [
    "##generating pseudo exposures\n",
    "count = 0\n",
    "for i in range(s4):\n",
    "        if i != refIdx:\n",
    "            count += 1 \n",
    "            \n",
    "            # Perform histogram matching\n",
    "            ref_image = imgSeqExtended[:, :, :, refIdx]\n",
    "            target_image = imgSeqExtended[:, :, :, i]\n",
    "\n",
    "            # Histogram matching using skimage's match_histograms function\n",
    "            matched_image = match_histograms(ref_image, target_image, channel_axis=None) ### THIS TIME WE are taking inputs as reference to matching\n",
    "\n",
    "            # Clip values to ensure they are in the range [0, 1]\n",
    "            matched_image = np.clip(matched_image, 0, 1)\n",
    "            print(s4+count-1)\n",
    "            imgSeqExtended[:,:,:,s4+count-1] = matched_image\n",
    "            # Append the matched image to imgSeqColorExd\n",
    "\n",
    "\n"
   ]
  },
  {
   "cell_type": "code",
   "execution_count": 394,
   "metadata": {},
   "outputs": [
    {
     "name": "stdout",
     "output_type": "stream",
     "text": [
      "[0.62925839 0.63968668 0.95179479 0.99914906 0.9962278  0.84939082\n",
      " 0.98695188 0.99807326 0.99815735 0.99238146 0.89664972]\n"
     ]
    }
   ],
   "source": [
    "print(imgSeqExtended[152:163,125,0,6])"
   ]
  },
  {
   "cell_type": "code",
   "execution_count": 395,
   "metadata": {},
   "outputs": [],
   "source": [
    "s1, s2, s3 = cMap_seq.shape  # Get the shape of the input array\n",
    "cMap_seq_3D = np.ones((s1, s2, 3, s4), dtype=cMap_seq.dtype)  # Initialize 4D array with ones\n",
    "for i in range(3):\n",
    "    cMap_seq_3D[:, :, i, :] = cMap_seq"
   ]
  },
  {
   "cell_type": "code",
   "execution_count": 397,
   "metadata": {},
   "outputs": [
    {
     "name": "stdout",
     "output_type": "stream",
     "text": [
      "247502\n"
     ]
    }
   ],
   "source": [
    "count = 0\n",
    "m1, m2, m3, s4 = images_algo.shape\n",
    "\n",
    "imgSeq = np.zeros((m1,m2,m3,s4))\n",
    "imgSeq = im2double(images_algo)\n",
    "\n",
    "num_diff = np.count_nonzero(RefMatrix-cMap)\n",
    "print(num_diff)\n",
    "if num_diff > m1 * m2 * m3 * consistencyThres:  # Adjusted to check against the first slice\n",
    "    for i in range(s4):\n",
    "        if i != refIdx:\n",
    "            count += 1\n",
    "            # Update imgSeqColor using masking\n",
    "            imgSeq[:,:,:,i] = (imgSeq[:,:,:,i] * cMap_seq_3D[:,:,:,i] + \\\n",
    "                                   (imgSeqExtended[:,:,:, s4 + count - 1] * np.logical_not(cMap_seq_3D[:,:,:, i])))"
   ]
  },
  {
   "cell_type": "markdown",
   "metadata": {},
   "source": [
    "Now for image decomposition line 209 in the commented matlab code in git. "
   ]
  },
  {
   "cell_type": "code",
   "execution_count": 200,
   "metadata": {},
   "outputs": [],
   "source": [
    "\n",
    "## get luminance again? \n",
    "\n",
    "for i in range(s4):\n",
    "    \n",
    "    Igrey = rgb2grey(imgSeq[:,:,:,i])\n",
    "    IgPad = padimage"
   ]
  },
  {
   "cell_type": "code",
   "execution_count": null,
   "metadata": {},
   "outputs": [],
   "source": [
    "def symmetric_pad(a_size, pad_size, direction):\n",
    "    num_dims = len(pad_size)\n",
    "    idx = [None] * num_dims  # Create a list to hold indices for each dimension\n",
    "\n",
    "    for k in range(num_dims):\n",
    "        M = a_size[k]\n",
    "        dim_nums = np.concatenate((np.arange(1, M + 1), np.arange(M, 0, -1))).astype(np.uint32)\n",
    "        p = pad_size[k]\n",
    "        idx[k] = dim_nums[np.mod(np.arange(-p, M + p), 2 * M)]\n",
    "        \n",
    "    return idx"
   ]
  },
  {
   "cell_type": "code",
   "execution_count": null,
   "metadata": {},
   "outputs": [],
   "source": []
  }
 ],
 "metadata": {
  "kernelspec": {
   "display_name": "Python 3",
   "language": "python",
   "name": "python3"
  },
  "language_info": {
   "codemirror_mode": {
    "name": "ipython",
    "version": 3
   },
   "file_extension": ".py",
   "mimetype": "text/x-python",
   "name": "python",
   "nbconvert_exporter": "python",
   "pygments_lexer": "ipython3",
   "version": "3.10.12"
  }
 },
 "nbformat": 4,
 "nbformat_minor": 2
}
